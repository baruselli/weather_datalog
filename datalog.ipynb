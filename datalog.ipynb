{
 "cells": [
  {
   "cell_type": "markdown",
   "metadata": {},
   "source": [
    "# Read data"
   ]
  },
  {
   "cell_type": "code",
   "execution_count": 85,
   "metadata": {},
   "outputs": [],
   "source": [
    "#Libraries\n",
    "from pandas import DataFrame\n",
    "import pandas as pd\n",
    "import seaborn as sns\n",
    "import matplotlib.pyplot as plt\n",
    "import matplotlib\n",
    "import numpy as np\n",
    "%matplotlib inline\n",
    "import datetime\n",
    "datenow= datetime.datetime.now()\n",
    "from numpy import sin,cos,exp,sqrt,pi\n",
    "import scipy"
   ]
  },
  {
   "cell_type": "code",
   "execution_count": 86,
   "metadata": {},
   "outputs": [],
   "source": [
    "#Reads data\n",
    "data=pd.read_csv('data/DATALOG3.TXT', sep='\\t',header=None, names = [\"Day\", \"Time\", \"Temp_22\", \"Hum_22\"], parse_dates=[['Day', 'Time']],dayfirst=True)\n",
    "data=data.set_index(\"Day_Time\")\n",
    "#print(data.describe())\n",
    "data2=pd.read_csv('data/DATALOG4.TXT', sep='\\t',header=None, names = [\"Day\", \"Time\", \"Temp_22\", \"Hum_22\", \"Temp_ds\"], parse_dates=[['Day', 'Time']],dayfirst=True)\n",
    "data2=data2.set_index(\"Day_Time\")\n",
    "#print(data2.describe())\n",
    "#data3=pd.read_csv('DATALOG4B.TXT', sep='\\t',header=None, names = [\"Day\", \"Time\", \"Temp_22\", \"Hum_22\", \"Temp_ds\", \"Rain\",\"Light\"], parse_dates=[['Day', 'Time']],dayfirst=True)\n",
    "#data3=data3.set_index(\"Day_Time\")\n",
    "#print(data3.describe())\n",
    "data4=pd.read_csv('data/DATALOG5.TXT', sep='\\t',header=None, names = [\"Day\", \"Time\", \"Temp_22\", \"Hum_22\", \"Temp_11\", \"Hum_11\", \"Temp_ds\", \"Rain\",\"Light\"], parse_dates=[['Day', 'Time']],dayfirst=True)\n",
    "data4=data4.set_index(\"Day_Time\")\n",
    "data5=pd.read_csv('data/DATALOG7.TXT', sep='\\t',header=None, names = [\"Day\", \"Time\", \"Temp_22\", \"Hum_22\", \"Temp_11\", \"Hum_11\", \"Temp_bmp\", \"P_bmp\", \"Temp_ds\", \"Rain\",\"Light\"], parse_dates=[['Day', 'Time']],dayfirst=True)\n",
    "data5=data5.set_index(\"Day_Time\")\n",
    "data6=pd.read_csv('data/DATALOG8.TXT', sep='\\t',header=None, names = [\"Day\", \"Time\", \"Temp_22\", \"Hum_22\", \"Temp_11\", \"Hum_11\", \"Temp_bmp\", \"P_bmp\", \"Temp_ds\", \"Rain\",\"Light\", \"Rain2\"], parse_dates=[['Day', 'Time']],dayfirst=True)\n",
    "data6=data6.set_index(\"Day_Time\")\n",
    "data7=pd.read_csv('data/DATALOG9.TXT', sep='\\t',header=None, names = [\"Day\", \"Time\", \"Temp_22\", \"Hum_22\", \"Temp_11\", \"Hum_11\", \"Temp_bmp\", \"P_bmp\", \"Temp_ds\", \"Rain\",\"Light\", \"Rain2\",\"Light2\"], parse_dates=[['Day', 'Time']],dayfirst=True)\n",
    "data7=data7.set_index(\"Day_Time\")\n",
    "data8=pd.read_csv('data/DATA10.TXT', sep='\\t',header=None, names = [\"Day\", \"Time\", \"Temp_22\", \"Hum_22\", \"Temp_11\", \"Hum_11\", \"Temp_bmp\", \"P_bmp\", \"Temp_ds\", \"Rain\",\"Light\", \"Rain2\",\"Light2\", \"IR\"], parse_dates=[['Day', 'Time']],dayfirst=True)\n",
    "data8=data8.set_index(\"Day_Time\")\n",
    "data9=pd.read_csv('data/DATA11.TXT', sep='\\t',header=None, names = [\"Day\", \"Time\", \"Temp_22\", \"Hum_22\", \"Temp_11\", \"Hum_11\", \"Temp_bmp\", \"P_bmp\", \"Temp_ds\", \"Rain\",\"Light\", \"Rain2\",\"Light2\", \"IR\", \"Light3\"], parse_dates=[['Day', 'Time']],dayfirst=True)\n",
    "data9=data9.set_index(\"Day_Time\")\n",
    "data10=pd.read_csv('data/DATA12.TXT', sep='\\t',header=None, names = [\"Day\", \"Time\", \"Temp_22\", \"Hum_22\", \"Temp_11\", \"Hum_11\", \"Temp_bmp\", \"P_bmp\", \"Temp_ds\", \"Rain\",\"Light\", \"Rain2\",\"Light2\", \"IR\", \"Light3\", \"R\", \"G\", \"B\", \"C\", \"Color_Temp\", \"Lux\"], parse_dates=[['Day', 'Time']],dayfirst=True)\n",
    "data10=data10.set_index(\"Day_Time\")\n",
    "data11=pd.read_csv('data/DATA13.TXT', sep='\\t',header=None, names = [\"Day\", \"Time\", \"Temp_22\", \"Hum_22\", \"Temp_11\", \"Hum_11\", \"Temp_bmp\", \"P_bmp\", \"Temp_ds\", \"Rain\",\"Light\", \"Rain2\",\"Light2\", \"IR\", \"Light3\", \"R\", \"G\", \"B\", \"C\", \"Color_Temp\", \"Lux\", \"UV_an\", \"Lux_1145\",\"IR_1145\",\"UV_1145\"], parse_dates=[['Day', 'Time']],dayfirst=True)\n",
    "data11[\"Day_Time\"]=pd.to_datetime(data11[\"Day_Time\"],errors='coerce')\n",
    "data11=data11.set_index(\"Day_Time\")\n",
    "data12=pd.read_csv('data/DATA14.TXT', sep='\\t',header=None, names = [\"Day\", \"Time\", \"Temp_22\", \"Hum_22\", \"Temp_11\", \"Hum_11\", \"Temp_bmp\", \"P_bmp\", \"Temp_ds\", \"Rain\",\"Light\", \"Rain2\",\"Light2\", \"IR\", \"Light3\", \"UV_an\",\"R\", \"G\", \"B\", \"C\", \"Color_Temp\", \"Lux\",  \"Lux_1145\",\"IR_1145\",\"UV_1145\"], parse_dates=[['Day', 'Time']],dayfirst=True)\n",
    "data12=data12.set_index(\"Day_Time\")\n",
    "data13=pd.read_csv('data/DATA15.TXT', sep='\\t',header=None, names = [\"Day\", \"Time\", \"Temp_22\", \"Hum_22\", \"Temp_11\", \"Hum_11\", \"Temp_bmp\", \"P_bmp\", \"Temp_ds\", \"Rain\",\"Light\", \"Rain2\",\"Light2\", \"IR\", \"Light3\", \"UV_an\",\"R\", \"G\", \"B\", \"C\", \"Color_Temp\", \"Lux\",  \"Lux_1145\",\"IR_1145\",\"UV_1145\"], parse_dates=[['Day', 'Time']],dayfirst=True,usecols=np.arange(25))\n",
    "data13[\"Day_Time\"]=pd.to_datetime(data13[\"Day_Time\"],errors='coerce')\n",
    "data13=data13.set_index(\"Day_Time\")\n",
    "\n",
    "data_tot=data.append(data2).append(data4).append(data5).append(data6).append(data7).append(data8).append(data9).append(data10).append(data11).append(data12).append(data13)\n"
   ]
  },
  {
   "cell_type": "code",
   "execution_count": 87,
   "metadata": {},
   "outputs": [
    {
     "data": {
      "text/html": [
       "<div>\n",
       "<style>\n",
       "    .dataframe thead tr:only-child th {\n",
       "        text-align: right;\n",
       "    }\n",
       "\n",
       "    .dataframe thead th {\n",
       "        text-align: left;\n",
       "    }\n",
       "\n",
       "    .dataframe tbody tr th {\n",
       "        vertical-align: top;\n",
       "    }\n",
       "</style>\n",
       "<table border=\"1\" class=\"dataframe\">\n",
       "  <thead>\n",
       "    <tr style=\"text-align: right;\">\n",
       "      <th></th>\n",
       "      <th>count</th>\n",
       "      <th>mean</th>\n",
       "      <th>std</th>\n",
       "      <th>min</th>\n",
       "      <th>25%</th>\n",
       "      <th>50%</th>\n",
       "      <th>75%</th>\n",
       "      <th>max</th>\n",
       "    </tr>\n",
       "  </thead>\n",
       "  <tbody>\n",
       "    <tr>\n",
       "      <th>B</th>\n",
       "      <td>18079.0</td>\n",
       "      <td>7860.080480</td>\n",
       "      <td>8964.020909</td>\n",
       "      <td>0.00</td>\n",
       "      <td>0.0000</td>\n",
       "      <td>5911.00</td>\n",
       "      <td>12753.00</td>\n",
       "      <td>52699.00</td>\n",
       "    </tr>\n",
       "    <tr>\n",
       "      <th>C</th>\n",
       "      <td>18079.0</td>\n",
       "      <td>17149.968195</td>\n",
       "      <td>19425.945681</td>\n",
       "      <td>0.00</td>\n",
       "      <td>3.0000</td>\n",
       "      <td>13019.00</td>\n",
       "      <td>28030.50</td>\n",
       "      <td>65535.00</td>\n",
       "    </tr>\n",
       "    <tr>\n",
       "      <th>Color_Temp</th>\n",
       "      <td>18079.0</td>\n",
       "      <td>21957.990818</td>\n",
       "      <td>14243.722254</td>\n",
       "      <td>0.00</td>\n",
       "      <td>10056.0000</td>\n",
       "      <td>17738.00</td>\n",
       "      <td>40943.00</td>\n",
       "      <td>65499.00</td>\n",
       "    </tr>\n",
       "    <tr>\n",
       "      <th>G</th>\n",
       "      <td>18079.0</td>\n",
       "      <td>7367.560706</td>\n",
       "      <td>8689.315525</td>\n",
       "      <td>0.00</td>\n",
       "      <td>0.0000</td>\n",
       "      <td>5288.00</td>\n",
       "      <td>11612.50</td>\n",
       "      <td>52143.00</td>\n",
       "    </tr>\n",
       "    <tr>\n",
       "      <th>Hum_11</th>\n",
       "      <td>49005.0</td>\n",
       "      <td>35.198980</td>\n",
       "      <td>26.369395</td>\n",
       "      <td>0.00</td>\n",
       "      <td>11.0000</td>\n",
       "      <td>19.00</td>\n",
       "      <td>60.00</td>\n",
       "      <td>95.00</td>\n",
       "    </tr>\n",
       "    <tr>\n",
       "      <th>Hum_22</th>\n",
       "      <td>52496.0</td>\n",
       "      <td>49.251373</td>\n",
       "      <td>6.857760</td>\n",
       "      <td>0.00</td>\n",
       "      <td>45.0000</td>\n",
       "      <td>50.50</td>\n",
       "      <td>54.10</td>\n",
       "      <td>70.10</td>\n",
       "    </tr>\n",
       "    <tr>\n",
       "      <th>IR</th>\n",
       "      <td>39796.0</td>\n",
       "      <td>479.028596</td>\n",
       "      <td>433.719904</td>\n",
       "      <td>39.00</td>\n",
       "      <td>69.0000</td>\n",
       "      <td>151.00</td>\n",
       "      <td>968.00</td>\n",
       "      <td>1023.00</td>\n",
       "    </tr>\n",
       "    <tr>\n",
       "      <th>IR_1145</th>\n",
       "      <td>6019.0</td>\n",
       "      <td>406.178601</td>\n",
       "      <td>182.853218</td>\n",
       "      <td>0.00</td>\n",
       "      <td>254.0000</td>\n",
       "      <td>340.00</td>\n",
       "      <td>521.00</td>\n",
       "      <td>1218.00</td>\n",
       "    </tr>\n",
       "    <tr>\n",
       "      <th>Light</th>\n",
       "      <td>33831.0</td>\n",
       "      <td>352.384204</td>\n",
       "      <td>376.125370</td>\n",
       "      <td>3.00</td>\n",
       "      <td>76.0000</td>\n",
       "      <td>109.00</td>\n",
       "      <td>812.00</td>\n",
       "      <td>974.00</td>\n",
       "    </tr>\n",
       "    <tr>\n",
       "      <th>Light2</th>\n",
       "      <td>46071.0</td>\n",
       "      <td>848.648325</td>\n",
       "      <td>152.306780</td>\n",
       "      <td>174.00</td>\n",
       "      <td>732.0000</td>\n",
       "      <td>860.00</td>\n",
       "      <td>999.00</td>\n",
       "      <td>1021.00</td>\n",
       "    </tr>\n",
       "    <tr>\n",
       "      <th>Light3</th>\n",
       "      <td>36460.0</td>\n",
       "      <td>149.740428</td>\n",
       "      <td>193.486403</td>\n",
       "      <td>0.00</td>\n",
       "      <td>8.0000</td>\n",
       "      <td>44.00</td>\n",
       "      <td>260.00</td>\n",
       "      <td>891.00</td>\n",
       "    </tr>\n",
       "    <tr>\n",
       "      <th>Lux</th>\n",
       "      <td>18077.0</td>\n",
       "      <td>3978.416994</td>\n",
       "      <td>6820.105171</td>\n",
       "      <td>0.00</td>\n",
       "      <td>0.0000</td>\n",
       "      <td>2442.00</td>\n",
       "      <td>5551.00</td>\n",
       "      <td>65535.00</td>\n",
       "    </tr>\n",
       "    <tr>\n",
       "      <th>Lux_1145</th>\n",
       "      <td>6019.0</td>\n",
       "      <td>258.351886</td>\n",
       "      <td>13.311169</td>\n",
       "      <td>1.00</td>\n",
       "      <td>256.0000</td>\n",
       "      <td>256.00</td>\n",
       "      <td>256.00</td>\n",
       "      <td>348.00</td>\n",
       "    </tr>\n",
       "    <tr>\n",
       "      <th>P_bmp</th>\n",
       "      <td>45998.0</td>\n",
       "      <td>101245.963170</td>\n",
       "      <td>531.241247</td>\n",
       "      <td>99625.52</td>\n",
       "      <td>100929.7925</td>\n",
       "      <td>101273.46</td>\n",
       "      <td>101600.89</td>\n",
       "      <td>102613.42</td>\n",
       "    </tr>\n",
       "    <tr>\n",
       "      <th>R</th>\n",
       "      <td>18078.0</td>\n",
       "      <td>7352.860715</td>\n",
       "      <td>9025.897067</td>\n",
       "      <td>0.00</td>\n",
       "      <td>2.0000</td>\n",
       "      <td>4746.00</td>\n",
       "      <td>11351.00</td>\n",
       "      <td>54955.00</td>\n",
       "    </tr>\n",
       "    <tr>\n",
       "      <th>Rain</th>\n",
       "      <td>49002.0</td>\n",
       "      <td>914.328252</td>\n",
       "      <td>190.148434</td>\n",
       "      <td>113.00</td>\n",
       "      <td>970.0000</td>\n",
       "      <td>990.00</td>\n",
       "      <td>1003.00</td>\n",
       "      <td>1023.00</td>\n",
       "    </tr>\n",
       "    <tr>\n",
       "      <th>Rain2</th>\n",
       "      <td>46828.0</td>\n",
       "      <td>93.009610</td>\n",
       "      <td>113.951207</td>\n",
       "      <td>0.00</td>\n",
       "      <td>15.0000</td>\n",
       "      <td>26.00</td>\n",
       "      <td>154.00</td>\n",
       "      <td>1023.00</td>\n",
       "    </tr>\n",
       "    <tr>\n",
       "      <th>Temp_11</th>\n",
       "      <td>48888.0</td>\n",
       "      <td>20.374041</td>\n",
       "      <td>5.259564</td>\n",
       "      <td>1.00</td>\n",
       "      <td>16.0000</td>\n",
       "      <td>20.00</td>\n",
       "      <td>24.00</td>\n",
       "      <td>44.00</td>\n",
       "    </tr>\n",
       "    <tr>\n",
       "      <th>Temp_22</th>\n",
       "      <td>52490.0</td>\n",
       "      <td>24.233799</td>\n",
       "      <td>3.372724</td>\n",
       "      <td>17.90</td>\n",
       "      <td>20.7000</td>\n",
       "      <td>24.10</td>\n",
       "      <td>27.30</td>\n",
       "      <td>36.50</td>\n",
       "    </tr>\n",
       "    <tr>\n",
       "      <th>Temp_bmp</th>\n",
       "      <td>46008.0</td>\n",
       "      <td>26.827166</td>\n",
       "      <td>5.448783</td>\n",
       "      <td>11.14</td>\n",
       "      <td>22.9100</td>\n",
       "      <td>26.88</td>\n",
       "      <td>31.15</td>\n",
       "      <td>39.95</td>\n",
       "    </tr>\n",
       "    <tr>\n",
       "      <th>Temp_ds</th>\n",
       "      <td>50116.0</td>\n",
       "      <td>22.087166</td>\n",
       "      <td>5.493238</td>\n",
       "      <td>9.44</td>\n",
       "      <td>17.7500</td>\n",
       "      <td>21.81</td>\n",
       "      <td>26.44</td>\n",
       "      <td>38.00</td>\n",
       "    </tr>\n",
       "    <tr>\n",
       "      <th>UV_1145</th>\n",
       "      <td>6019.0</td>\n",
       "      <td>0.420616</td>\n",
       "      <td>17.532873</td>\n",
       "      <td>0.00</td>\n",
       "      <td>0.0200</td>\n",
       "      <td>0.06</td>\n",
       "      <td>0.17</td>\n",
       "      <td>962.00</td>\n",
       "    </tr>\n",
       "    <tr>\n",
       "      <th>UV_an</th>\n",
       "      <td>21421.0</td>\n",
       "      <td>14.818356</td>\n",
       "      <td>12.392515</td>\n",
       "      <td>0.00</td>\n",
       "      <td>4.0000</td>\n",
       "      <td>14.00</td>\n",
       "      <td>19.00</td>\n",
       "      <td>122.00</td>\n",
       "    </tr>\n",
       "  </tbody>\n",
       "</table>\n",
       "</div>"
      ],
      "text/plain": [
       "              count           mean           std       min          25%  \\\n",
       "B           18079.0    7860.080480   8964.020909      0.00       0.0000   \n",
       "C           18079.0   17149.968195  19425.945681      0.00       3.0000   \n",
       "Color_Temp  18079.0   21957.990818  14243.722254      0.00   10056.0000   \n",
       "G           18079.0    7367.560706   8689.315525      0.00       0.0000   \n",
       "Hum_11      49005.0      35.198980     26.369395      0.00      11.0000   \n",
       "Hum_22      52496.0      49.251373      6.857760      0.00      45.0000   \n",
       "IR          39796.0     479.028596    433.719904     39.00      69.0000   \n",
       "IR_1145      6019.0     406.178601    182.853218      0.00     254.0000   \n",
       "Light       33831.0     352.384204    376.125370      3.00      76.0000   \n",
       "Light2      46071.0     848.648325    152.306780    174.00     732.0000   \n",
       "Light3      36460.0     149.740428    193.486403      0.00       8.0000   \n",
       "Lux         18077.0    3978.416994   6820.105171      0.00       0.0000   \n",
       "Lux_1145     6019.0     258.351886     13.311169      1.00     256.0000   \n",
       "P_bmp       45998.0  101245.963170    531.241247  99625.52  100929.7925   \n",
       "R           18078.0    7352.860715   9025.897067      0.00       2.0000   \n",
       "Rain        49002.0     914.328252    190.148434    113.00     970.0000   \n",
       "Rain2       46828.0      93.009610    113.951207      0.00      15.0000   \n",
       "Temp_11     48888.0      20.374041      5.259564      1.00      16.0000   \n",
       "Temp_22     52490.0      24.233799      3.372724     17.90      20.7000   \n",
       "Temp_bmp    46008.0      26.827166      5.448783     11.14      22.9100   \n",
       "Temp_ds     50116.0      22.087166      5.493238      9.44      17.7500   \n",
       "UV_1145      6019.0       0.420616     17.532873      0.00       0.0200   \n",
       "UV_an       21421.0      14.818356     12.392515      0.00       4.0000   \n",
       "\n",
       "                  50%        75%        max  \n",
       "B             5911.00   12753.00   52699.00  \n",
       "C            13019.00   28030.50   65535.00  \n",
       "Color_Temp   17738.00   40943.00   65499.00  \n",
       "G             5288.00   11612.50   52143.00  \n",
       "Hum_11          19.00      60.00      95.00  \n",
       "Hum_22          50.50      54.10      70.10  \n",
       "IR             151.00     968.00    1023.00  \n",
       "IR_1145        340.00     521.00    1218.00  \n",
       "Light          109.00     812.00     974.00  \n",
       "Light2         860.00     999.00    1021.00  \n",
       "Light3          44.00     260.00     891.00  \n",
       "Lux           2442.00    5551.00   65535.00  \n",
       "Lux_1145       256.00     256.00     348.00  \n",
       "P_bmp       101273.46  101600.89  102613.42  \n",
       "R             4746.00   11351.00   54955.00  \n",
       "Rain           990.00    1003.00    1023.00  \n",
       "Rain2           26.00     154.00    1023.00  \n",
       "Temp_11         20.00      24.00      44.00  \n",
       "Temp_22         24.10      27.30      36.50  \n",
       "Temp_bmp        26.88      31.15      39.95  \n",
       "Temp_ds         21.81      26.44      38.00  \n",
       "UV_1145          0.06       0.17     962.00  \n",
       "UV_an           14.00      19.00     122.00  "
      ]
     },
     "execution_count": 87,
     "metadata": {},
     "output_type": "execute_result"
    }
   ],
   "source": [
    "#Cleans data from faulty inputs from sensors\n",
    "\n",
    "for a in data_tot.columns:\n",
    "    data_tot[a]=pd.to_numeric(data_tot[a], errors='coerce') #some values are read as not numeric, forces them to be numeric\n",
    "    data_tot[a]= data_tot[a].where(((data_tot[a]>-50)), other=np.nan) #values <-50 should all be faulty; I also use -200 for nan\n",
    "data_tot [\"P_bmp\"]= data_tot[\"P_bmp\"].where(((data_tot.P_bmp>95000)&(data_tot.P_bmp<105000))|(data_tot.P_bmp==np.nan), other=np.nan)\n",
    "data_tot [\"Hum_11\"]= data_tot[\"Hum_11\"].where(((data_tot[\"Hum_11\"]<101)), other=np.nan)\n",
    "data_tot [\"Temp_ds\"]= data_tot[\"Temp_ds\"].where(((data_tot[\"Temp_ds\"]<101)), other=np.nan)\n",
    "data_tot[\"Temp_bmp\"] = data_tot[\"Temp_bmp\"].where((np.not_equal(data_tot.Temp_bmp,0.0))|(data_tot.Temp_bmp==np.nan) , other=np.nan)\n",
    "\n",
    "data_tot.describe().T"
   ]
  },
  {
   "cell_type": "code",
   "execution_count": 88,
   "metadata": {},
   "outputs": [],
   "source": [
    "#resample every hour\n",
    "data_tot_h0=data_tot.resample(\"1H\").mean()\n",
    "data_tot_h0.dropna(how=\"all\",inplace=True)\n",
    "#data_tot_h0.describe().T\n"
   ]
  },
  {
   "cell_type": "code",
   "execution_count": 89,
   "metadata": {},
   "outputs": [],
   "source": [
    "#Reads Wind\n",
    "data_wind0=pd.read_csv('data/WIND.TXT', sep='\\t',header=None, names = [\"Day\", \"Time\",\"Wind\"])\n",
    "data_wind1=pd.read_csv('data/WIND_2.TXT', sep='\\t',header=None, names = [\"Day\", \"Time\",\"Wind\"])\n",
    "data_wind2=pd.read_csv('data/WIND_3.TXT', sep='\\t',header=None, names = [\"Day\", \"Time\",\"Wind\"])\n",
    "data_wind_0=data_wind0.append(data_wind1).append(data_wind2)\n",
    "data_wind_0[\"delta_t\"]=300000   #5min\n",
    "# from arduino program:\n",
    "# float velocity=float(turns_write)/float(time_wind1-time_wind0)*float(1000./4.*10.);\n",
    "data_wind_0[\"speed\"]=data_wind.Wind*1000./4.*10.300000\n",
    "#this one has delta_t and speed\n",
    "data_wind3=pd.read_csv('data/WIND_4.TXT', sep='\\t',header=None, names = [\"Day\", \"Time\",\"Wind\",\"delta_t\",\"speed\"])\n",
    "data_wind=data_wind_0.append(data_wind3)\n",
    "\n",
    "data_wind[\"Day_Time_0\"]=data_wind.Day.map(str)+\" \"+data_wind.Time.map(str)\n",
    "data_wind.dropna(how=\"any\")\n",
    "data_wind[\"Day_Time\"]=pd.to_datetime(data_wind.Day_Time_0,format= '%d.%m.%Y %H:%M:%S',errors=\"coerce\")\n",
    "#data_wind=data_wind.set_index(\"Day_Time\")\n",
    "#data_wind.Day_Time\n",
    "#data_wind\n",
    "data_wind=data_wind.set_index(\"Day_Time\")\n",
    "data_wind=data_wind.drop([\"Day\",\"Time\",\"Day_Time_0\"],axis=1)\n",
    "#data_wind\n",
    "# I sum the counts\n",
    "data_wind_h=data_wind.resample(\"1H\").sum()\n",
    "#4 giri al sec sono 10 km/h\n",
    "#1 ora=3600 secondi\n",
    "data_wind_h[\"Speed\"]=data_wind_h.Wind/3600/4*10\n",
    "\n",
    "data_wind[\"time\"]=data_wind.index\n",
    "data_wind[\"delta_t\"]=data_wind.time - data_wind.time.shift(1)\n",
    "data_wind[\"Speed\"]=data_wind.Wind/4*10/data_wind.delta_t.astype('timedelta64[s]')\n",
    "data_wind.dropna(how=\"any\",inplace=True);\n",
    "data_wind.index=pd.to_datetime(data_wind.index, errors='coerce')\n",
    "data_wind=data_wind[(data_wind.index.year==2017) & (data_wind.index.month>4)]\n",
    "#print(data_wind.describe())\n",
    "#print(data_wind_h.describe())\n"
   ]
  },
  {
   "cell_type": "code",
   "execution_count": 93,
   "metadata": {},
   "outputs": [
    {
     "data": {
      "text/html": [
       "<div>\n",
       "<style>\n",
       "    .dataframe thead tr:only-child th {\n",
       "        text-align: right;\n",
       "    }\n",
       "\n",
       "    .dataframe thead th {\n",
       "        text-align: left;\n",
       "    }\n",
       "\n",
       "    .dataframe tbody tr th {\n",
       "        vertical-align: top;\n",
       "    }\n",
       "</style>\n",
       "<table border=\"1\" class=\"dataframe\">\n",
       "  <thead>\n",
       "    <tr style=\"text-align: right;\">\n",
       "      <th></th>\n",
       "      <th>count</th>\n",
       "      <th>mean</th>\n",
       "      <th>std</th>\n",
       "      <th>min</th>\n",
       "      <th>25%</th>\n",
       "      <th>50%</th>\n",
       "      <th>75%</th>\n",
       "      <th>max</th>\n",
       "    </tr>\n",
       "  </thead>\n",
       "  <tbody>\n",
       "    <tr>\n",
       "      <th>B</th>\n",
       "      <td>1486.0</td>\n",
       "      <td>7931.925519</td>\n",
       "      <td>8768.388511</td>\n",
       "      <td>0.000000</td>\n",
       "      <td>0.250000</td>\n",
       "      <td>6051.500000</td>\n",
       "      <td>13256.416667</td>\n",
       "      <td>40347.833333</td>\n",
       "    </tr>\n",
       "    <tr>\n",
       "      <th>C</th>\n",
       "      <td>1486.0</td>\n",
       "      <td>17308.817038</td>\n",
       "      <td>19022.891323</td>\n",
       "      <td>0.000000</td>\n",
       "      <td>3.000000</td>\n",
       "      <td>13345.875000</td>\n",
       "      <td>29004.964744</td>\n",
       "      <td>65535.000000</td>\n",
       "    </tr>\n",
       "    <tr>\n",
       "      <th>Color_Temp</th>\n",
       "      <td>1486.0</td>\n",
       "      <td>21943.959167</td>\n",
       "      <td>12519.812270</td>\n",
       "      <td>0.000000</td>\n",
       "      <td>10886.958333</td>\n",
       "      <td>18760.458333</td>\n",
       "      <td>33880.458333</td>\n",
       "      <td>47866.500000</td>\n",
       "    </tr>\n",
       "    <tr>\n",
       "      <th>G</th>\n",
       "      <td>1486.0</td>\n",
       "      <td>7440.178649</td>\n",
       "      <td>8474.040536</td>\n",
       "      <td>0.000000</td>\n",
       "      <td>0.166667</td>\n",
       "      <td>5472.000000</td>\n",
       "      <td>12230.812500</td>\n",
       "      <td>38975.166667</td>\n",
       "    </tr>\n",
       "    <tr>\n",
       "      <th>Hum_11</th>\n",
       "      <td>3562.0</td>\n",
       "      <td>35.031501</td>\n",
       "      <td>26.579216</td>\n",
       "      <td>2.347826</td>\n",
       "      <td>11.000000</td>\n",
       "      <td>18.558333</td>\n",
       "      <td>61.666667</td>\n",
       "      <td>95.000000</td>\n",
       "    </tr>\n",
       "    <tr>\n",
       "      <th>Hum_22</th>\n",
       "      <td>3959.0</td>\n",
       "      <td>48.447132</td>\n",
       "      <td>6.846324</td>\n",
       "      <td>14.500000</td>\n",
       "      <td>43.737500</td>\n",
       "      <td>49.585714</td>\n",
       "      <td>53.241667</td>\n",
       "      <td>69.025000</td>\n",
       "    </tr>\n",
       "    <tr>\n",
       "      <th>IR</th>\n",
       "      <td>2940.0</td>\n",
       "      <td>471.897312</td>\n",
       "      <td>424.899880</td>\n",
       "      <td>40.666667</td>\n",
       "      <td>69.607372</td>\n",
       "      <td>176.954545</td>\n",
       "      <td>966.166667</td>\n",
       "      <td>1015.500000</td>\n",
       "    </tr>\n",
       "    <tr>\n",
       "      <th>IR_1145</th>\n",
       "      <td>502.0</td>\n",
       "      <td>409.611696</td>\n",
       "      <td>179.545937</td>\n",
       "      <td>252.916667</td>\n",
       "      <td>253.666667</td>\n",
       "      <td>340.424242</td>\n",
       "      <td>524.887500</td>\n",
       "      <td>1074.375000</td>\n",
       "    </tr>\n",
       "    <tr>\n",
       "      <th>Light</th>\n",
       "      <td>2539.0</td>\n",
       "      <td>366.609659</td>\n",
       "      <td>374.206377</td>\n",
       "      <td>7.000000</td>\n",
       "      <td>81.916667</td>\n",
       "      <td>114.250000</td>\n",
       "      <td>821.333333</td>\n",
       "      <td>968.250000</td>\n",
       "    </tr>\n",
       "    <tr>\n",
       "      <th>Light2</th>\n",
       "      <td>3364.0</td>\n",
       "      <td>846.524566</td>\n",
       "      <td>150.819521</td>\n",
       "      <td>285.857143</td>\n",
       "      <td>725.875000</td>\n",
       "      <td>843.937879</td>\n",
       "      <td>999.250000</td>\n",
       "      <td>1021.000000</td>\n",
       "    </tr>\n",
       "    <tr>\n",
       "      <th>Light3</th>\n",
       "      <td>2672.0</td>\n",
       "      <td>164.587164</td>\n",
       "      <td>197.398981</td>\n",
       "      <td>0.500000</td>\n",
       "      <td>8.000000</td>\n",
       "      <td>58.500000</td>\n",
       "      <td>285.564394</td>\n",
       "      <td>806.916667</td>\n",
       "    </tr>\n",
       "    <tr>\n",
       "      <th>Lux</th>\n",
       "      <td>1486.0</td>\n",
       "      <td>4020.006628</td>\n",
       "      <td>4575.488064</td>\n",
       "      <td>0.000000</td>\n",
       "      <td>0.000000</td>\n",
       "      <td>3054.666667</td>\n",
       "      <td>5958.545455</td>\n",
       "      <td>49151.250000</td>\n",
       "    </tr>\n",
       "    <tr>\n",
       "      <th>Lux_1145</th>\n",
       "      <td>502.0</td>\n",
       "      <td>258.320712</td>\n",
       "      <td>13.260217</td>\n",
       "      <td>86.333333</td>\n",
       "      <td>256.000000</td>\n",
       "      <td>256.000000</td>\n",
       "      <td>256.000000</td>\n",
       "      <td>335.625000</td>\n",
       "    </tr>\n",
       "    <tr>\n",
       "      <th>P_bmp</th>\n",
       "      <td>3364.0</td>\n",
       "      <td>101292.486406</td>\n",
       "      <td>501.612926</td>\n",
       "      <td>99650.460833</td>\n",
       "      <td>100999.100568</td>\n",
       "      <td>101313.241553</td>\n",
       "      <td>101617.716042</td>\n",
       "      <td>102604.059167</td>\n",
       "    </tr>\n",
       "    <tr>\n",
       "      <th>R</th>\n",
       "      <td>1486.0</td>\n",
       "      <td>7429.489875</td>\n",
       "      <td>8762.476305</td>\n",
       "      <td>0.000000</td>\n",
       "      <td>2.333333</td>\n",
       "      <td>4974.984848</td>\n",
       "      <td>12073.375000</td>\n",
       "      <td>39636.666667</td>\n",
       "    </tr>\n",
       "    <tr>\n",
       "      <th>Rain</th>\n",
       "      <td>3562.0</td>\n",
       "      <td>937.800550</td>\n",
       "      <td>154.859722</td>\n",
       "      <td>144.833333</td>\n",
       "      <td>977.833333</td>\n",
       "      <td>990.500000</td>\n",
       "      <td>1002.623106</td>\n",
       "      <td>1020.000000</td>\n",
       "    </tr>\n",
       "    <tr>\n",
       "      <th>Rain2</th>\n",
       "      <td>3427.0</td>\n",
       "      <td>85.216653</td>\n",
       "      <td>106.671487</td>\n",
       "      <td>2.000000</td>\n",
       "      <td>14.833333</td>\n",
       "      <td>24.833333</td>\n",
       "      <td>131.085145</td>\n",
       "      <td>444.500000</td>\n",
       "    </tr>\n",
       "    <tr>\n",
       "      <th>Speed</th>\n",
       "      <td>3280.0</td>\n",
       "      <td>1.211092</td>\n",
       "      <td>3.232235</td>\n",
       "      <td>0.000000</td>\n",
       "      <td>0.000000</td>\n",
       "      <td>0.000000</td>\n",
       "      <td>0.088715</td>\n",
       "      <td>20.502083</td>\n",
       "    </tr>\n",
       "    <tr>\n",
       "      <th>Temp_11</th>\n",
       "      <td>3559.0</td>\n",
       "      <td>20.714449</td>\n",
       "      <td>5.228404</td>\n",
       "      <td>8.416667</td>\n",
       "      <td>16.750000</td>\n",
       "      <td>20.916667</td>\n",
       "      <td>24.916667</td>\n",
       "      <td>44.000000</td>\n",
       "    </tr>\n",
       "    <tr>\n",
       "      <th>Temp_22</th>\n",
       "      <td>3959.0</td>\n",
       "      <td>24.242520</td>\n",
       "      <td>3.494246</td>\n",
       "      <td>18.108333</td>\n",
       "      <td>20.508712</td>\n",
       "      <td>24.727273</td>\n",
       "      <td>27.391667</td>\n",
       "      <td>32.107692</td>\n",
       "    </tr>\n",
       "    <tr>\n",
       "      <th>Temp_bmp</th>\n",
       "      <td>3364.0</td>\n",
       "      <td>26.743894</td>\n",
       "      <td>5.348456</td>\n",
       "      <td>11.508571</td>\n",
       "      <td>22.784375</td>\n",
       "      <td>26.812500</td>\n",
       "      <td>30.911458</td>\n",
       "      <td>39.075455</td>\n",
       "    </tr>\n",
       "    <tr>\n",
       "      <th>Temp_ds</th>\n",
       "      <td>3586.0</td>\n",
       "      <td>22.562683</td>\n",
       "      <td>5.431751</td>\n",
       "      <td>9.637500</td>\n",
       "      <td>18.367708</td>\n",
       "      <td>22.541250</td>\n",
       "      <td>26.962083</td>\n",
       "      <td>36.843333</td>\n",
       "    </tr>\n",
       "    <tr>\n",
       "      <th>UV_1145</th>\n",
       "      <td>502.0</td>\n",
       "      <td>1.379981</td>\n",
       "      <td>28.619692</td>\n",
       "      <td>0.010000</td>\n",
       "      <td>0.015000</td>\n",
       "      <td>0.067424</td>\n",
       "      <td>0.174792</td>\n",
       "      <td>641.333333</td>\n",
       "    </tr>\n",
       "    <tr>\n",
       "      <th>UV_an</th>\n",
       "      <td>1465.0</td>\n",
       "      <td>13.857045</td>\n",
       "      <td>11.048296</td>\n",
       "      <td>0.166667</td>\n",
       "      <td>4.083333</td>\n",
       "      <td>14.416667</td>\n",
       "      <td>18.333333</td>\n",
       "      <td>92.916667</td>\n",
       "    </tr>\n",
       "    <tr>\n",
       "      <th>speed</th>\n",
       "      <td>840.0</td>\n",
       "      <td>18.085393</td>\n",
       "      <td>43.090952</td>\n",
       "      <td>0.000000</td>\n",
       "      <td>0.000000</td>\n",
       "      <td>0.080000</td>\n",
       "      <td>13.720000</td>\n",
       "      <td>295.460000</td>\n",
       "    </tr>\n",
       "  </tbody>\n",
       "</table>\n",
       "</div>"
      ],
      "text/plain": [
       "             count           mean           std           min            25%  \\\n",
       "B           1486.0    7931.925519   8768.388511      0.000000       0.250000   \n",
       "C           1486.0   17308.817038  19022.891323      0.000000       3.000000   \n",
       "Color_Temp  1486.0   21943.959167  12519.812270      0.000000   10886.958333   \n",
       "G           1486.0    7440.178649   8474.040536      0.000000       0.166667   \n",
       "Hum_11      3562.0      35.031501     26.579216      2.347826      11.000000   \n",
       "Hum_22      3959.0      48.447132      6.846324     14.500000      43.737500   \n",
       "IR          2940.0     471.897312    424.899880     40.666667      69.607372   \n",
       "IR_1145      502.0     409.611696    179.545937    252.916667     253.666667   \n",
       "Light       2539.0     366.609659    374.206377      7.000000      81.916667   \n",
       "Light2      3364.0     846.524566    150.819521    285.857143     725.875000   \n",
       "Light3      2672.0     164.587164    197.398981      0.500000       8.000000   \n",
       "Lux         1486.0    4020.006628   4575.488064      0.000000       0.000000   \n",
       "Lux_1145     502.0     258.320712     13.260217     86.333333     256.000000   \n",
       "P_bmp       3364.0  101292.486406    501.612926  99650.460833  100999.100568   \n",
       "R           1486.0    7429.489875   8762.476305      0.000000       2.333333   \n",
       "Rain        3562.0     937.800550    154.859722    144.833333     977.833333   \n",
       "Rain2       3427.0      85.216653    106.671487      2.000000      14.833333   \n",
       "Speed       3280.0       1.211092      3.232235      0.000000       0.000000   \n",
       "Temp_11     3559.0      20.714449      5.228404      8.416667      16.750000   \n",
       "Temp_22     3959.0      24.242520      3.494246     18.108333      20.508712   \n",
       "Temp_bmp    3364.0      26.743894      5.348456     11.508571      22.784375   \n",
       "Temp_ds     3586.0      22.562683      5.431751      9.637500      18.367708   \n",
       "UV_1145      502.0       1.379981     28.619692      0.010000       0.015000   \n",
       "UV_an       1465.0      13.857045     11.048296      0.166667       4.083333   \n",
       "speed        840.0      18.085393     43.090952      0.000000       0.000000   \n",
       "\n",
       "                      50%            75%            max  \n",
       "B             6051.500000   13256.416667   40347.833333  \n",
       "C            13345.875000   29004.964744   65535.000000  \n",
       "Color_Temp   18760.458333   33880.458333   47866.500000  \n",
       "G             5472.000000   12230.812500   38975.166667  \n",
       "Hum_11          18.558333      61.666667      95.000000  \n",
       "Hum_22          49.585714      53.241667      69.025000  \n",
       "IR             176.954545     966.166667    1015.500000  \n",
       "IR_1145        340.424242     524.887500    1074.375000  \n",
       "Light          114.250000     821.333333     968.250000  \n",
       "Light2         843.937879     999.250000    1021.000000  \n",
       "Light3          58.500000     285.564394     806.916667  \n",
       "Lux           3054.666667    5958.545455   49151.250000  \n",
       "Lux_1145       256.000000     256.000000     335.625000  \n",
       "P_bmp       101313.241553  101617.716042  102604.059167  \n",
       "R             4974.984848   12073.375000   39636.666667  \n",
       "Rain           990.500000    1002.623106    1020.000000  \n",
       "Rain2           24.833333     131.085145     444.500000  \n",
       "Speed            0.000000       0.088715      20.502083  \n",
       "Temp_11         20.916667      24.916667      44.000000  \n",
       "Temp_22         24.727273      27.391667      32.107692  \n",
       "Temp_bmp        26.812500      30.911458      39.075455  \n",
       "Temp_ds         22.541250      26.962083      36.843333  \n",
       "UV_1145          0.067424       0.174792     641.333333  \n",
       "UV_an           14.416667      18.333333      92.916667  \n",
       "speed            0.080000      13.720000     295.460000  "
      ]
     },
     "execution_count": 93,
     "metadata": {},
     "output_type": "execute_result"
    }
   ],
   "source": [
    "#concatenates sansors + wind hourly data\n",
    "data_tot_h = pd.concat([data_tot_h0,data_wind_h.drop([\"Wind\",\"delta_t\"],axis=1)])\n",
    "data_tot_h.describe(include=[np.number]).T\n"
   ]
  },
  {
   "cell_type": "markdown",
   "metadata": {},
   "source": [
    "# Comparison with ilmeteo.it e 3bmeteo.it\n",
    "\n",
    "I have daily data from ilmeteo.it e 3bmeteo.it"
   ]
  },
  {
   "cell_type": "code",
   "execution_count": 95,
   "metadata": {
    "scrolled": false
   },
   "outputs": [
    {
     "name": "stderr",
     "output_type": "stream",
     "text": [
      "C:\\ProgramData\\Anaconda3\\lib\\site-packages\\ipykernel_launcher.py:2: FutureWarning: pd.rolling_median is deprecated for DataFrame and will be removed in a future version, replace with \n",
      "\tDataFrame.rolling(window=3,center=False).median()\n",
      "  \n"
     ]
    }
   ],
   "source": [
    "#Max, min, avg temp per day, after rolling median to cut outliers away\n",
    "PTH_median=pd.rolling_median(data_tot[[\"Temp_11\",\"Temp_ds\",\"Temp_bmp\",\"P_bmp\",\"Hum_11\",\"Rain\",\"Rain2\"]],3)\n",
    "wind=data_tot_h.Speed.resample(\"1D\").mean()\n",
    "PTH_max=PTH_median.resample(\"1D\").max()\n",
    "PTH_min=PTH_median.resample(\"1D\").min()\n",
    "PTH_avg=PTH_median.resample(\"1D\").mean()\n"
   ]
  },
  {
   "cell_type": "code",
   "execution_count": 103,
   "metadata": {},
   "outputs": [
    {
     "data": {
      "text/html": [
       "<div>\n",
       "<style>\n",
       "    .dataframe thead tr:only-child th {\n",
       "        text-align: right;\n",
       "    }\n",
       "\n",
       "    .dataframe thead th {\n",
       "        text-align: left;\n",
       "    }\n",
       "\n",
       "    .dataframe tbody tr th {\n",
       "        vertical-align: top;\n",
       "    }\n",
       "</style>\n",
       "<table border=\"1\" class=\"dataframe\">\n",
       "  <thead>\n",
       "    <tr style=\"text-align: right;\">\n",
       "      <th></th>\n",
       "      <th>LOCALITA</th>\n",
       "      <th>DATA</th>\n",
       "      <th>TMEDIA °C</th>\n",
       "      <th>TMIN °C</th>\n",
       "      <th>TMAX °C</th>\n",
       "      <th>PUNTORUGIADA °C</th>\n",
       "      <th>UMIDITA %</th>\n",
       "      <th>VISIBILITA km</th>\n",
       "      <th>VENTOMEDIA km/h</th>\n",
       "      <th>VENTOMAX km/h</th>\n",
       "      <th>RAFFICA km/h</th>\n",
       "      <th>PRESSIONESLM mb</th>\n",
       "      <th>PRESSIONEMEDIA mb</th>\n",
       "      <th>PIOGGIA mm</th>\n",
       "      <th>FENOMENI</th>\n",
       "    </tr>\n",
       "    <tr>\n",
       "      <th>DATA</th>\n",
       "      <th></th>\n",
       "      <th></th>\n",
       "      <th></th>\n",
       "      <th></th>\n",
       "      <th></th>\n",
       "      <th></th>\n",
       "      <th></th>\n",
       "      <th></th>\n",
       "      <th></th>\n",
       "      <th></th>\n",
       "      <th></th>\n",
       "      <th></th>\n",
       "      <th></th>\n",
       "      <th></th>\n",
       "      <th></th>\n",
       "    </tr>\n",
       "  </thead>\n",
       "  <tbody>\n",
       "    <tr>\n",
       "      <th>2017-05-01</th>\n",
       "      <td>Trieste</td>\n",
       "      <td>1/5/2017</td>\n",
       "      <td>15.0</td>\n",
       "      <td>11.0</td>\n",
       "      <td>19.0</td>\n",
       "      <td>6.0</td>\n",
       "      <td>59.0</td>\n",
       "      <td>19.0</td>\n",
       "      <td>7.0</td>\n",
       "      <td>17.0</td>\n",
       "      <td>0.0</td>\n",
       "      <td>1012.0</td>\n",
       "      <td>0.0</td>\n",
       "      <td>0.0</td>\n",
       "      <td>pioggia</td>\n",
       "    </tr>\n",
       "    <tr>\n",
       "      <th>2017-05-02</th>\n",
       "      <td>Trieste</td>\n",
       "      <td>2/5/2017</td>\n",
       "      <td>14.0</td>\n",
       "      <td>11.0</td>\n",
       "      <td>16.0</td>\n",
       "      <td>8.0</td>\n",
       "      <td>70.0</td>\n",
       "      <td>21.0</td>\n",
       "      <td>3.0</td>\n",
       "      <td>9.0</td>\n",
       "      <td>0.0</td>\n",
       "      <td>1016.0</td>\n",
       "      <td>0.0</td>\n",
       "      <td>0.0</td>\n",
       "      <td>NaN</td>\n",
       "    </tr>\n",
       "    <tr>\n",
       "      <th>2017-05-03</th>\n",
       "      <td>Trieste</td>\n",
       "      <td>3/5/2017</td>\n",
       "      <td>14.0</td>\n",
       "      <td>10.0</td>\n",
       "      <td>19.0</td>\n",
       "      <td>9.0</td>\n",
       "      <td>74.0</td>\n",
       "      <td>20.0</td>\n",
       "      <td>1.0</td>\n",
       "      <td>4.0</td>\n",
       "      <td>0.0</td>\n",
       "      <td>1018.0</td>\n",
       "      <td>0.0</td>\n",
       "      <td>0.0</td>\n",
       "      <td>NaN</td>\n",
       "    </tr>\n",
       "    <tr>\n",
       "      <th>2017-05-04</th>\n",
       "      <td>Trieste</td>\n",
       "      <td>4/5/2017</td>\n",
       "      <td>13.0</td>\n",
       "      <td>10.0</td>\n",
       "      <td>18.0</td>\n",
       "      <td>9.0</td>\n",
       "      <td>77.0</td>\n",
       "      <td>20.0</td>\n",
       "      <td>1.0</td>\n",
       "      <td>4.0</td>\n",
       "      <td>0.0</td>\n",
       "      <td>1016.0</td>\n",
       "      <td>0.0</td>\n",
       "      <td>0.0</td>\n",
       "      <td>pioggia</td>\n",
       "    </tr>\n",
       "    <tr>\n",
       "      <th>2017-05-05</th>\n",
       "      <td>Trieste</td>\n",
       "      <td>5/5/2017</td>\n",
       "      <td>14.0</td>\n",
       "      <td>12.0</td>\n",
       "      <td>17.0</td>\n",
       "      <td>10.0</td>\n",
       "      <td>77.0</td>\n",
       "      <td>23.0</td>\n",
       "      <td>1.0</td>\n",
       "      <td>4.0</td>\n",
       "      <td>0.0</td>\n",
       "      <td>1016.0</td>\n",
       "      <td>0.0</td>\n",
       "      <td>0.0</td>\n",
       "      <td>pioggia</td>\n",
       "    </tr>\n",
       "  </tbody>\n",
       "</table>\n",
       "</div>"
      ],
      "text/plain": [
       "           LOCALITA      DATA  TMEDIA °C  TMIN °C  TMAX °C  PUNTORUGIADA °C  \\\n",
       "DATA                                                                          \n",
       "2017-05-01  Trieste  1/5/2017       15.0     11.0     19.0              6.0   \n",
       "2017-05-02  Trieste  2/5/2017       14.0     11.0     16.0              8.0   \n",
       "2017-05-03  Trieste  3/5/2017       14.0     10.0     19.0              9.0   \n",
       "2017-05-04  Trieste  4/5/2017       13.0     10.0     18.0              9.0   \n",
       "2017-05-05  Trieste  5/5/2017       14.0     12.0     17.0             10.0   \n",
       "\n",
       "            UMIDITA %  VISIBILITA km  VENTOMEDIA km/h  VENTOMAX km/h  \\\n",
       "DATA                                                                   \n",
       "2017-05-01       59.0           19.0              7.0           17.0   \n",
       "2017-05-02       70.0           21.0              3.0            9.0   \n",
       "2017-05-03       74.0           20.0              1.0            4.0   \n",
       "2017-05-04       77.0           20.0              1.0            4.0   \n",
       "2017-05-05       77.0           23.0              1.0            4.0   \n",
       "\n",
       "            RAFFICA km/h  PRESSIONESLM mb  PRESSIONEMEDIA mb  PIOGGIA mm  \\\n",
       "DATA                                                                       \n",
       "2017-05-01           0.0           1012.0                0.0         0.0   \n",
       "2017-05-02           0.0           1016.0                0.0         0.0   \n",
       "2017-05-03           0.0           1018.0                0.0         0.0   \n",
       "2017-05-04           0.0           1016.0                0.0         0.0   \n",
       "2017-05-05           0.0           1016.0                0.0         0.0   \n",
       "\n",
       "            FENOMENI  \n",
       "DATA                  \n",
       "2017-05-01  pioggia   \n",
       "2017-05-02       NaN  \n",
       "2017-05-03       NaN  \n",
       "2017-05-04  pioggia   \n",
       "2017-05-05  pioggia   "
      ]
     },
     "execution_count": 103,
     "metadata": {},
     "output_type": "execute_result"
    }
   ],
   "source": [
    "#dati from ilmeteo.it\n",
    "ilmeteo_maggio=pd.read_csv('data/Trieste-2017-Maggio.csv', sep=\";\")\n",
    "ilmeteo_giugno=pd.read_csv('data/Trieste-2017-Giugno.csv', sep=\";\")\n",
    "ilmeteo_luglio=pd.read_csv('data/Trieste-2017-Luglio.csv', sep=\";\")\n",
    "ilmeteo_agosto=pd.read_csv('data/Trieste-2017-Agosto.csv', sep=\";\")\n",
    "ilmeteo=ilmeteo_maggio.append(ilmeteo_giugno).append(ilmeteo_luglio).append(ilmeteo_agosto)\n",
    "#ilmeteo.set_index(\"DATA\",inplace=True)\n",
    "#ilmeteo.dropna(inplace=True,how=\"all\")\n",
    "ilmeteo.set_index(pd.to_datetime(ilmeteo.DATA, format='%d/%m/%Y'),inplace=True)\n",
    "ilmeteo.head()"
   ]
  },
  {
   "cell_type": "code",
   "execution_count": 104,
   "metadata": {
    "scrolled": true
   },
   "outputs": [
    {
     "data": {
      "text/html": [
       "<div>\n",
       "<style>\n",
       "    .dataframe thead tr:only-child th {\n",
       "        text-align: right;\n",
       "    }\n",
       "\n",
       "    .dataframe thead th {\n",
       "        text-align: left;\n",
       "    }\n",
       "\n",
       "    .dataframe tbody tr th {\n",
       "        vertical-align: top;\n",
       "    }\n",
       "</style>\n",
       "<table border=\"1\" class=\"dataframe\">\n",
       "  <thead>\n",
       "    <tr style=\"text-align: right;\">\n",
       "      <th></th>\n",
       "      <th>index</th>\n",
       "      <th>date</th>\n",
       "      <th>prec</th>\n",
       "      <th>tmin</th>\n",
       "      <th>tmax</th>\n",
       "      <th>bullet</th>\n",
       "      <th>color</th>\n",
       "      <th>um</th>\n",
       "    </tr>\n",
       "  </thead>\n",
       "  <tbody>\n",
       "    <tr>\n",
       "      <th>05/01/17</th>\n",
       "      <td>0</td>\n",
       "      <td>1493611200819</td>\n",
       "      <td>3</td>\n",
       "      <td>12</td>\n",
       "      <td>17</td>\n",
       "      <td>/images/icone/italia_2014/var_rovesci_30.png</td>\n",
       "      <td>#1461A1</td>\n",
       "      <td>mm</td>\n",
       "    </tr>\n",
       "    <tr>\n",
       "      <th>05/02/17</th>\n",
       "      <td>1</td>\n",
       "      <td>1493697600820</td>\n",
       "      <td>0</td>\n",
       "      <td>12</td>\n",
       "      <td>15</td>\n",
       "      <td>/images/icone/italia_2014/poco_nuvoloso.png</td>\n",
       "      <td>#1461A1</td>\n",
       "      <td>mm</td>\n",
       "    </tr>\n",
       "    <tr>\n",
       "      <th>05/03/17</th>\n",
       "      <td>2</td>\n",
       "      <td>1493784000820</td>\n",
       "      <td>1</td>\n",
       "      <td>12</td>\n",
       "      <td>16</td>\n",
       "      <td>/images/icone/italia_2014/pioviggine_30.png</td>\n",
       "      <td>#1461A1</td>\n",
       "      <td>mm</td>\n",
       "    </tr>\n",
       "    <tr>\n",
       "      <th>05/04/17</th>\n",
       "      <td>3</td>\n",
       "      <td>1493870400820</td>\n",
       "      <td>5</td>\n",
       "      <td>12</td>\n",
       "      <td>16</td>\n",
       "      <td>/images/icone/italia_2014/pioviggine_30.png</td>\n",
       "      <td>#1461A1</td>\n",
       "      <td>mm</td>\n",
       "    </tr>\n",
       "    <tr>\n",
       "      <th>05/05/17</th>\n",
       "      <td>4</td>\n",
       "      <td>1493956800820</td>\n",
       "      <td>0</td>\n",
       "      <td>12</td>\n",
       "      <td>17</td>\n",
       "      <td>/images/icone/italia_2014/parzialmente_nuvolos...</td>\n",
       "      <td>#1461A1</td>\n",
       "      <td>mm</td>\n",
       "    </tr>\n",
       "  </tbody>\n",
       "</table>\n",
       "</div>"
      ],
      "text/plain": [
       "          index           date  prec tmin tmax  \\\n",
       "05/01/17      0  1493611200819     3   12   17   \n",
       "05/02/17      1  1493697600820     0   12   15   \n",
       "05/03/17      2  1493784000820     1   12   16   \n",
       "05/04/17      3  1493870400820     5   12   16   \n",
       "05/05/17      4  1493956800820     0   12   17   \n",
       "\n",
       "                                                     bullet    color  um  \n",
       "05/01/17       /images/icone/italia_2014/var_rovesci_30.png  #1461A1  mm  \n",
       "05/02/17        /images/icone/italia_2014/poco_nuvoloso.png  #1461A1  mm  \n",
       "05/03/17        /images/icone/italia_2014/pioviggine_30.png  #1461A1  mm  \n",
       "05/04/17        /images/icone/italia_2014/pioviggine_30.png  #1461A1  mm  \n",
       "05/05/17  /images/icone/italia_2014/parzialmente_nuvolos...  #1461A1  mm  "
      ]
     },
     "execution_count": 104,
     "metadata": {},
     "output_type": "execute_result"
    }
   ],
   "source": [
    "#dati da 3bmeteo.it\n",
    "bmeteo_maggio=pd.read_csv('data/3bmeteo_maggio2017.csv')\n",
    "bmeteo_giugno=pd.read_csv('data/3bmeteo_giugno2017.csv')\n",
    "bmeteo_luglio=pd.read_csv('data/3bmeteo_luglio2017.csv')\n",
    "bmeteo_agosto=pd.read_csv('data/3bmeteo_agosto2017.csv')\n",
    "bmeteo=bmeteo_maggio.append(bmeteo_giugno).append(bmeteo_luglio).append(bmeteo_agosto).reset_index()\n",
    "bmeteo.set_index(pd.to_datetime(bmeteo.date,unit='ms'),inplace=True)\n",
    "bmeteo.set_index(bmeteo.index.to_datetime().strftime('%D'),inplace=True) \n",
    "bmeteo.head()"
   ]
  },
  {
   "cell_type": "code",
   "execution_count": 101,
   "metadata": {
    "scrolled": false
   },
   "outputs": [
    {
     "name": "stdout",
     "output_type": "stream",
     "text": [
      "Index(['LOCALITA', 'DATA', 'TMEDIA °C', 'TMIN °C', 'TMAX °C',\n",
      "       'PUNTORUGIADA °C', 'UMIDITA %', 'VISIBILITA km', 'VENTOMEDIA km/h',\n",
      "       'VENTOMAX km/h', 'RAFFICA km/h', 'PRESSIONESLM mb', 'PRESSIONEMEDIA mb',\n",
      "       'PIOGGIA mm', 'FENOMENI'],\n",
      "      dtype='object')\n"
     ]
    },
    {
     "data": {
      "text/plain": [
       "<matplotlib.legend.Legend at 0x1c0420dd358>"
      ]
     },
     "execution_count": 101,
     "metadata": {},
     "output_type": "execute_result"
    },
    {
     "data": {
      "image/png": "[encoded data removed]",
      "text/plain": [
       "<matplotlib.figure.Figure at 0x1c040007b00>"
      ]
     },
     "metadata": {},
     "output_type": "display_data"
    }
   ],
   "source": [
    "print(ilmeteo.columns)\n",
    "f, ax = plt.subplots(3,2,figsize=(20,35))\n",
    "#T media\n",
    "ax[0,0].plot(ilmeteo[\"TMEDIA °C\"],label=\"ilmeteo\",linewidth=10)\n",
    "ax[0,0].plot(PTH_avg.Temp_11,label=\"Temp_11\")\n",
    "ax[0,0].plot(PTH_avg.Temp_ds,label=\"Temp_ds\")\n",
    "ax[0,0].plot(PTH_avg.Temp_bmp,label=\"Temp_bmp\")\n",
    "ax[0,0].legend()\n",
    "#'T_max'\n",
    "ax[0,1].plot(ilmeteo[\"TMAX °C\"],label=\"ilmeteo\",linewidth=10)\n",
    "ax[0,1].plot(PTH_max.Temp_11,label=\"Temp_11\")\n",
    "ax[0,1].plot(PTH_max.Temp_ds,label=\"Temp_ds\")\n",
    "ax[0,1].plot(PTH_max.Temp_bmp,label=\"Temp_bmp\")\n",
    "ax[0,1].legend()\n",
    "#T_min\n",
    "ax[1,0].plot(ilmeteo[\"TMIN °C\"],label=\"ilmeteo\",linewidth=10)\n",
    "ax[1,0].plot(PTH_min.Temp_11,label=\"Temp_11\")\n",
    "ax[1,0].plot(PTH_min.Temp_ds,label=\"Temp_ds\")\n",
    "ax[1,0].plot(PTH_min.Temp_bmp,label=\"Temp_bmp\")\n",
    "ax[1,0].legend()\n",
    "#Wind\n",
    "ax[1,1].plot(ilmeteo[\"VENTOMEDIA km/h\"],label=\"ilmeteo\",linewidth=10)\n",
    "ax[1,1].plot(ilmeteo[\"VENTOMAX km/h\"],label=\"ilmeteo max\",linewidth=2)\n",
    "ax[1,1].plot(wind,label=\"wind\")\n",
    "ax[1,1].legend()\n",
    "#H media\n",
    "ax[2,0].plot(ilmeteo[\"UMIDITA %\"],label=\"ilmeteo\",linewidth=10)\n",
    "ax[2,0].plot(PTH_avg.Hum_11,label=\"Hum_11\")\n",
    "ax[2,0].legend()\n",
    "#P media\n",
    "ax[2,1].plot(ilmeteo[\"PRESSIONESLM mb\"],label=\"ilmeteo\",linewidth=10)\n",
    "ax[2,1].plot(PTH_avg.P_bmp/100,label=\"P_bmp\")\n",
    "ax[2,1].legend()"
   ]
  },
  {
   "cell_type": "code",
   "execution_count": null,
   "metadata": {
    "collapsed": true
   },
   "outputs": [],
   "source": [
    "ilmeteo.FENOMENI.unique()"
   ]
  },
  {
   "cell_type": "code",
   "execution_count": null,
   "metadata": {
    "collapsed": true
   },
   "outputs": [],
   "source": [
    "def pioggia(row):\n",
    "    if (row[\"FENOMENI\"]==\"pioggia \"):\n",
    "        return 0\n",
    "    elif (row[\"FENOMENI\"]==\"pioggia temporale \"):\n",
    "        return 0\n",
    "    else:\n",
    "        return 1\n",
    "ilmeteo[\"pioggia\"]=ilmeteo.apply (lambda row: pioggia(row),axis=1)"
   ]
  },
  {
   "cell_type": "code",
   "execution_count": null,
   "metadata": {
    "collapsed": true
   },
   "outputs": [],
   "source": [
    "plt.plot(ilmeteo.pioggia,'ro')\n",
    "plt.plot(PTH_min.Rain_01,'bp')\n",
    "test_pioggia=pd.concat([ilmeteo.pioggia,PTH_min.Rain_01],axis=1).dropna()\n",
    "from sklearn.metrics import confusion_matrix\n",
    "print(confusion_matrix(test_pioggia.pioggia,test_pioggia.Rain_01))"
   ]
  },
  {
   "cell_type": "code",
   "execution_count": null,
   "metadata": {
    "collapsed": true
   },
   "outputs": [],
   "source": [
    "check_Tavg=pd.concat([ilmeteo[\"TMEDIA °C\"],PTH_avg],axis=1).dropna(how=\"any\")\n",
    "from sklearn.metrics import mean_absolute_error,mean_squared_error\n",
    "\n",
    "for metric in (error_predict,mean_absolute_error):\n",
    "    for sensor in (\"Temp_11\",\"Temp_ds\",\"Temp_bmp\"):\n",
    "        print(metric(check_Tavg[\"TMEDIA °C\"],check_Tavg[sensor]),sensor,metric)\n"
   ]
  },
  {
   "cell_type": "code",
   "execution_count": null,
   "metadata": {
    "collapsed": true
   },
   "outputs": [],
   "source": [
    "check_Tavg[\"TMEDIA °C\"].shape\n",
    "#PTH_avg.Temp_11.shape"
   ]
  },
  {
   "cell_type": "code",
   "execution_count": null,
   "metadata": {
    "collapsed": true
   },
   "outputs": [],
   "source": [
    "bmeteo.prec.plot()  "
   ]
  },
  {
   "cell_type": "code",
   "execution_count": null,
   "metadata": {
    "collapsed": true
   },
   "outputs": [],
   "source": [
    "bmeteo.date/86400"
   ]
  },
  {
   "cell_type": "code",
   "execution_count": null,
   "metadata": {
    "collapsed": true
   },
   "outputs": [],
   "source": [
    "ls"
   ]
  },
  {
   "cell_type": "code",
   "execution_count": null,
   "metadata": {
    "collapsed": true
   },
   "outputs": [],
   "source": [
    "!tail DATA13.TXT"
   ]
  },
  {
   "cell_type": "code",
   "execution_count": null,
   "metadata": {
    "collapsed": true
   },
   "outputs": [],
   "source": [
    "data_tot.tail(24)"
   ]
  },
  {
   "cell_type": "code",
   "execution_count": null,
   "metadata": {},
   "outputs": [],
   "source": [
    "matplotlib.rcParams['figure.figsize'] = (18, 12)\n",
    "data_tot_luglio=data_tot_h[(data_tot_h.index.month==8) & (data_tot_h.index.day>14)& (data_tot_h.index.day<16)]\n",
    "data_tot_luglio.Light.dropna().plot()\n",
    "data_tot_luglio.Light2.dropna().plot()\n",
    "data_tot_luglio.Light3.dropna().plot()\n",
    "#data_tot_luglio.UV_an.dropna().plot()\n",
    "#data_tot_luglio.IR.dropna().plot()\n",
    "#data_tot_luglio.Rain.dropna().plot()\n",
    "#data_tot_luglio.Rain2.dropna().plot()\n",
    "plt.legend()"
   ]
  },
  {
   "cell_type": "code",
   "execution_count": null,
   "metadata": {
    "scrolled": false
   },
   "outputs": [],
   "source": [
    "#plots all series\n",
    "f, ax = plt.subplots(data_tot_h.columns.shape[0]//2+1,2,figsize=(12,35))\n",
    "for i,a in enumerate(data_tot_h.columns):\n",
    "    try:\n",
    "        data_tot[a].dropna().plot(ax=ax.flatten()[i])\n",
    "#        data_tot[a].dropna().rolling(12).mean().plot(ax=ax.flatten()[i])\n",
    "    except:\n",
    "        pass\n",
    "    data_tot_h[a].dropna().plot(ax=ax.flatten()[i],title=str(a))\n",
    "    ax.flatten()[i].set_xlabel(\"\")\n",
    "plt.tight_layout()"
   ]
  },
  {
   "cell_type": "code",
   "execution_count": null,
   "metadata": {},
   "outputs": [],
   "source": [
    "#compares the three T sensors\n",
    "data_tot_h.Temp_11.dropna().plot()\n",
    "data_tot_h.Temp_ds.dropna().plot()\n",
    "data_tot_h.Temp_bmp.dropna().plot()\n",
    "#data_tot_h.Temp_22.dropna().plot()\n",
    "plt.xlim(pd.Timestamp('2017-04-27'),datenow);\n",
    "#data_tot.Temp_bmp.describe()\n",
    "#show(to_bokeh())\n",
    "\n"
   ]
  },
  {
   "cell_type": "code",
   "execution_count": null,
   "metadata": {},
   "outputs": [],
   "source": [
    "#hourly average\n",
    "f, ax = plt.subplots(2,2,figsize=(10,8))\n",
    "ax=ax.flatten()\n",
    "data_tot_h.Temp_ds.groupby(data_tot_h.index.hour).mean().plot(style='or',ax=ax[0])\n",
    "data_tot_h.Temp_bmp.groupby(data_tot_h.index.hour).mean().plot(style='ob',ax=ax[0])\n",
    "data_tot_h.Temp_11.groupby(data_tot_h.index.hour).mean().plot(style='ok',ax=ax[0])\n",
    "data_tot_h.Temp_22.groupby(data_tot_h.index.hour).mean().plot(style='og',ax=ax[0])\n",
    "data_tot_h.Hum_11.groupby(data_tot_h.index.hour).mean().plot(style='or',ax=ax[2])\n",
    "data_tot_h.Hum_11.groupby(data_tot_h.index.hour).max().plot(style='-r',ax=ax[2])\n",
    "data_tot_h.Hum_11.groupby(data_tot_h.index.hour).min().plot(style='-r',ax=ax[2])\n",
    "data_tot_h.P_bmp.groupby(data_tot_h.index.hour).mean().plot(style='ob',ax=ax[3])\n",
    "data_tot_h.P_bmp.groupby(data_tot_h.index.hour).max().plot(style='-b',ax=ax[3])\n",
    "data_tot_h.P_bmp.groupby(data_tot_h.index.hour).min().plot(style='-b',ax=ax[3])\n",
    "ax[0].legend(loc='lower center')\n",
    "#data_tot_h.Hum_11.groupby(data_tot_h.index.hour).mean().plot(style='o',secondary_y=True)\n",
    "#data_tot_h.Hum_22.groupby(data_tot_h.index.hour).mean().plot(style='o',secondary_y=True)\n",
    "#plt.legend()\n",
    "#daily average\n",
    "colors=[\"r\",\"b\",\"k\",\"g\"]\n",
    "for i,a in enumerate((\"Temp_ds\",\"Temp_bmp\",\"Temp_11\",\"Temp_22\")):\n",
    "    data_tot_h[a].groupby(data_tot_h.index.dayofyear).mean().plot(ax=ax[1],color=colors[i])\n",
    "    data_tot_h[a].groupby(data_tot_h.index.dayofyear).max().plot(ax=ax[1],color=colors[i])\n",
    "    data_tot_h[a].groupby(data_tot_h.index.dayofyear).min().plot(ax=ax[1],color=colors[i])\n",
    "#data_tot_h.Temp_ds.groupby(data_tot_h.index.dayofyear).max().plot(ax=ax[1])\n",
    "#data_tot_h.Temp_bmp.groupby(data_tot_h.index.dayofyear).mean().plot(ax=ax[1])\n",
    "#data_tot_h.Temp_11.groupby(data_tot_h.index.dayofyear).mean().plot(ax=ax[1])\n",
    "#data_tot_h.Temp_22.groupby(data_tot_h.index.dayofyear).mean().plot(ax=ax[1])"
   ]
  },
  {
   "cell_type": "code",
   "execution_count": null,
   "metadata": {
    "scrolled": true
   },
   "outputs": [],
   "source": [
    "for a in (\"R\",\"G\",\"B\"):\n",
    "    data_tot_h[a].groupby(data_tot_h.index.hour).mean().plot(style=\"o\"+a.lower())"
   ]
  },
  {
   "cell_type": "code",
   "execution_count": null,
   "metadata": {
    "collapsed": true,
    "scrolled": true
   },
   "outputs": [],
   "source": [
    "#still hourly average\n",
    "f, ax = plt.subplots(2,2,figsize=(10,6))\n",
    "ax=ax.flatten()\n",
    "data_tot_h.Light.groupby(data_tot_h.index.hour).mean().plot(style='or',ax=ax[0], label=\"light\")\n",
    "data_tot_h.Light2.groupby(data_tot_h.index.hour).mean().plot(style='ob',ax=ax[0], label=\"light2\")\n",
    "data_tot_h.IR.groupby(data_tot_h.index.hour).mean().plot(style='ok',ax=ax[0], label=\"IR\")\n",
    "data_tot_h.Light3.groupby(data_tot_h.index.hour).mean().plot(style='og',ax=ax[0], label=\"light3\")\n",
    "data_tot_h.Light.groupby(data_tot_h.index.hour).min().plot(style='or',ax=ax[1], label=\"light\")\n",
    "data_tot_h.Light2.groupby(data_tot_h.index.hour).min().plot(style='ob',ax=ax[1], label=\"light2\")\n",
    "data_tot_h.IR.groupby(data_tot_h.index.hour).min().plot(style='ok',ax=ax[1], label=\"IR\")\n",
    "data_tot_h.Light.groupby(data_tot_h.index.hour).max().plot(style='dr',ax=ax[1], label=\"light\")\n",
    "data_tot_h.Light2.groupby(data_tot_h.index.hour).max().plot(style='db',ax=ax[1], label=\"light2\")\n",
    "data_tot_h.IR.groupby(data_tot_h.index.hour).max().plot(style='dk',ax=ax[1], label=\"IR\")\n",
    "data_tot_h.Hum_11.groupby(data_tot_h.index.hour).mean().plot(style='or',ax=ax[2], label=\"Hum\")\n",
    "data_tot_h.P_bmp.groupby(data_tot_h.index.hour).mean().plot(style='ob',ax=ax[3], label=\"P\")\n",
    "\n",
    "ax[0].fill_between(data_tot_h.Light.groupby(data_tot_h.index.hour).mean().index,data_tot_h.Light.groupby(data_tot_h.index.hour).mean()-data_tot_h.Light.groupby(data_tot_h.index.hour).std(), data_tot_h.Light.groupby(data_tot_h.index.hour).mean()+data_tot_h.Light.groupby(data_tot_h.index.hour).std(), color='r', alpha=0.2)\n",
    "ax[0].fill_between(data_tot_h.Light2.groupby(data_tot_h.index.hour).mean().index,data_tot_h.Light2.groupby(data_tot_h.index.hour).mean()-data_tot_h.Light2.groupby(data_tot_h.index.hour).std(), data_tot_h.Light2.groupby(data_tot_h.index.hour).mean()+data_tot_h.Light2.groupby(data_tot_h.index.hour).std(), color='b', alpha=0.2)\n",
    "ax[0].fill_between(data_tot_h.IR.groupby(data_tot_h.index.hour).mean().index,data_tot_h.IR.groupby(data_tot_h.index.hour).mean()-data_tot_h.IR.groupby(data_tot_h.index.hour).std(), data_tot_h.IR.groupby(data_tot_h.index.hour).mean()+data_tot_h.IR.groupby(data_tot_h.index.hour).std(), color='k', alpha=0.2)\n",
    "ax[3].fill_between(data_tot_h.P_bmp.groupby(data_tot_h.index.hour).mean().index,data_tot_h.P_bmp.groupby(data_tot_h.index.hour).mean()-data_tot_h.P_bmp.groupby(data_tot_h.index.hour).std(), data_tot_h.P_bmp.groupby(data_tot_h.index.hour).mean()+data_tot_h.P_bmp.groupby(data_tot_h.index.hour).std(), color='b', alpha=0.2)\n",
    "ax[2].fill_between(data_tot_h.Hum_11.groupby(data_tot_h.index.hour).mean().index,data_tot_h.Hum_11.groupby(data_tot_h.index.hour).mean()-data_tot_h.Hum_11.groupby(data_tot_h.index.hour).std(), data_tot_h.Hum_11.groupby(data_tot_h.index.hour).mean()+data_tot_h.Hum_11.groupby(data_tot_h.index.hour).std(), color='r', alpha=0.2)\n",
    "\n",
    "ax[0].legend(loc='best')\n",
    "ax[2].legend()\n",
    "ax[3].legend()"
   ]
  },
  {
   "cell_type": "code",
   "execution_count": null,
   "metadata": {
    "collapsed": true
   },
   "outputs": [],
   "source": [
    "#correlytion among variables\n",
    "sns.heatmap(data_tot_h.corr(),square=True)"
   ]
  },
  {
   "cell_type": "code",
   "execution_count": null,
   "metadata": {
    "collapsed": true
   },
   "outputs": [],
   "source": [
    "#checks if hourly average changes correlation\n",
    "sns.heatmap(abs(data_tot.corr()-data_tot_h.corr()),square=True)"
   ]
  },
  {
   "cell_type": "code",
   "execution_count": null,
   "metadata": {
    "collapsed": true
   },
   "outputs": [],
   "source": [
    "#data_tot_h.Temp_bmp.plot(label=\"T\")\n",
    "#data_tot_h.P_bmp.plot(label=\"P\",secondary_y=True)\n",
    "#plt.xlim(pd.Timestamp('2017-04-29'),datenow);\n",
    "#plt.legend();"
   ]
  },
  {
   "cell_type": "code",
   "execution_count": null,
   "metadata": {
    "collapsed": true
   },
   "outputs": [],
   "source": [
    "##checks mean and std of the houry average\n",
    "#Temp=pd.Series(data[\"Temp\"]).append(data2[\"Temp\"]).append(data3[\"Temp\"]).append(data4[\"Temp\"])\n",
    "Temp=pd.Series(data_tot[\"Temp_22\"])\n",
    "#print(Temp.mean(), Temp.std())\n",
    "#Temp.tail()\n",
    "#Hum=pd.Series(data[\"Hum\"]).append(data2[\"Hum\"]).append(data3[\"Hum\"]).append(data4[\"Hum\"])\n",
    "Hum=pd.Series(data_tot[\"Hum_22\"])\n",
    "#print(Hum.mean(), Hum.std())\n",
    "#Hum.tail()\n",
    "#every hour\n",
    "#Temp_h0=Temp.resample(\"1H\").mean()\n",
    "#Temp_h=Temp_h0\n",
    "Temp_h=data_tot_h[\"Temp_22\"];\n",
    "print(Temp.mean(), Temp.std())\n",
    "print(Temp_h.mean(), Temp_h.std())\n",
    "#print(Temp_h.head())\n",
    "#Temp.plot()\n",
    "#Temp_h.plot()\n",
    "#Temp.rolling(100).mean().plot()\n",
    "#Hum_h0=Hum.resample(\"1H\").mean()\n",
    "#Hum_h=Hum_h0[13:]\n",
    "Hum_h=data_tot_h[\"Hum_22\"]\n",
    "#print(Hum_h.head())\n",
    "#Hum.plot()\n",
    "#Hum_h.plot()\n",
    "print(Hum.mean(), Hum.std())\n",
    "print(Hum_h.mean(), Hum_h.std())\n",
    "#sns.boxplot(data=Temp,width=0.5)\n",
    "#sns.boxplot(data=Hum,width=0.5)\n",
    "#sns.tsplot(data=Temp_h)"
   ]
  },
  {
   "cell_type": "code",
   "execution_count": null,
   "metadata": {
    "collapsed": true
   },
   "outputs": [],
   "source": [
    "#statsmodels.graphics.tsaplots.plot_acf(Temp_h_d,lags=73,title=\"Temp acf\")\n",
    "#statsmodels.graphics.tsaplots.plot_pacf(Temp_h_d,lags=30,title=\"Temp pacf\")\n",
    "#statsmodels.graphics.tsaplots.plot_acf(Hum_h_d,lags=73,title=\"Hum acf\")\n",
    "#statsmodels.graphics.tsaplots.plot_pacf(Hum_h_d,lags=30,title=\"Hum pacf\");"
   ]
  },
  {
   "cell_type": "code",
   "execution_count": null,
   "metadata": {
    "collapsed": true
   },
   "outputs": [],
   "source": [
    "#data_tot.Rain.dropna().plot()\n",
    "#data_tot.Rain_01.dropna().plot(secondary_y=True)"
   ]
  },
  {
   "cell_type": "code",
   "execution_count": null,
   "metadata": {
    "collapsed": true
   },
   "outputs": [],
   "source": [
    "#data_tot_h.Light.dropna().plot()\n",
    "#data_tot_h.Rain.dropna().plot()\n",
    "#data_tot_h.Rain_01.dropna().plot(secondary_y=True)"
   ]
  },
  {
   "cell_type": "code",
   "execution_count": null,
   "metadata": {
    "collapsed": true
   },
   "outputs": [],
   "source": [
    "#dstart = datetime.datetime(2015,4,27)\n",
    "#data_tot.Hum_11.dropna().plot()\n",
    "#data_tot.Hum_22.dropna().plot()\n",
    "#plt.xlim(pd.Timestamp('2017-04-27'),datenow);"
   ]
  },
  {
   "cell_type": "code",
   "execution_count": null,
   "metadata": {
    "collapsed": true
   },
   "outputs": [],
   "source": [
    "#data_tot.P_bmp.plot()\n",
    "#data_tot.Temp_bmp.plot(secondary_y=True)\n",
    "#plt.xlim(pd.Timestamp('2017-04-29'),datenow);"
   ]
  },
  {
   "cell_type": "code",
   "execution_count": null,
   "metadata": {
    "collapsed": true
   },
   "outputs": [],
   "source": [
    "#data_tot_h.Light.plot()\n",
    "#data_tot_h.Light2.plot()\n",
    "#plt.xlim(pd.Timestamp('2017-04-29'),datenow);\n",
    "#plt.ylim(0,1024)"
   ]
  },
  {
   "cell_type": "code",
   "execution_count": null,
   "metadata": {
    "collapsed": true
   },
   "outputs": [],
   "source": [
    "#plt.scatter(x=data_tot.Light, y=data_tot.Temp_bmp)\n",
    "sns.pairplot(data_tot_h[[\"Hum_11\", \"Temp_ds\", \"P_bmp\", \"Light\", \"Rain_01\"]].dropna(how=\"any\"),kind=\"reg\")"
   ]
  },
  {
   "cell_type": "code",
   "execution_count": null,
   "metadata": {
    "collapsed": true
   },
   "outputs": [],
   "source": [
    "#plt.scatter(data_tot_h.Hum_22,data_tot_h.Temp_22.shift(periods=0))"
   ]
  },
  {
   "cell_type": "code",
   "execution_count": null,
   "metadata": {
    "collapsed": true
   },
   "outputs": [],
   "source": [
    "#detects the conditions for rain, at same time\n",
    "cmap = sns.cubehelix_palette(as_cmap=True)\n",
    "#sns.regplot(\"Hum_11\", \"Temp_ds\",data_tot_h, hue=\"Rain\")\n",
    "f, ax = plt.subplots(1,2,figsize=(10,4))\n",
    "points = ax[0].scatter(data_tot.Hum_11, data_tot.Temp_ds, c=data_tot.Rain, s=50, cmap=cmap,)\n",
    "f.colorbar(points)\n",
    "points1 = ax[1].scatter(data_tot.Hum_11, data_tot.P_bmp, c=data_tot.Rain, s=50, cmap=cmap,)\n",
    "#f.colorbar(points1)\n",
    "#plot_url = py.plot_mpl(f)"
   ]
  },
  {
   "cell_type": "code",
   "execution_count": null,
   "metadata": {
    "collapsed": true
   },
   "outputs": [],
   "source": [
    "#f, ax = plt.subplots(1,2,figsize=(10,4))\n",
    "sns.lmplot(\"Hum_11\", \"Temp_ds\",data_tot, col=\"Rain_01\")"
   ]
  },
  {
   "cell_type": "code",
   "execution_count": null,
   "metadata": {
    "collapsed": true
   },
   "outputs": [],
   "source": [
    "sns.lmplot(\"Hum_11\", \"P_bmp\",data_tot, col=\"Rain_01\")"
   ]
  },
  {
   "cell_type": "code",
   "execution_count": null,
   "metadata": {
    "collapsed": true
   },
   "outputs": [],
   "source": [
    "\n",
    "    \n",
    "error=[]\n",
    "fig = plt.figure()\n",
    "for shift in range(0,100):\n",
    "    error.append(pred_shift(data_tot_h.Temp_ds,shift))\n",
    "plt.plot(error,\"o\")\n",
    "plt.axhline(pred_mean(data_tot_h.Temp_ds))\n",
    "print(error[1], error[12],error[24],pred_mean(data_tot_h.Temp_ds))\n",
    "#plot_url = py.plot_mpl(fig)\n",
    "\n"
   ]
  },
  {
   "cell_type": "code",
   "execution_count": null,
   "metadata": {
    "collapsed": true
   },
   "outputs": [],
   "source": [
    "plt.plot(error,\"o\")\n",
    "plt.figure()"
   ]
  },
  {
   "cell_type": "code",
   "execution_count": null,
   "metadata": {
    "collapsed": true
   },
   "outputs": [],
   "source": [
    "#transform time series to df with the shifts\n",
    "def series_to_df(series,n_shifts):\n",
    "    cols=[]\n",
    "    for i in n_shifts:\n",
    "        cols.append(\"d\"+str(i))\n",
    "    dataframe=pd.DataFrame(columns=cols)\n",
    "    for i in n_shifts:\n",
    "        dataframe[\"d\"+str(i)]=series.shift(i)\n",
    "    return dataframe.dropna(how=\"any\")\n",
    "\n",
    "df_Temp=series_to_df(data_tot_h.Temp_ds,(2,1,0))\n",
    "df_Temp.head()"
   ]
  },
  {
   "cell_type": "code",
   "execution_count": null,
   "metadata": {
    "collapsed": true
   },
   "outputs": [],
   "source": []
  },
  {
   "cell_type": "code",
   "execution_count": null,
   "metadata": {
    "collapsed": true,
    "scrolled": true
   },
   "outputs": [],
   "source": [
    "# supervised regression\n",
    "df_Temp=series_to_df(data_tot_h.Temp_ds,(1,0))\n",
    "\n",
    "X=df_Temp.ix[:,:-1]\n",
    "y=df_Temp.ix[:,-1]\n",
    "#print(X.head(),y.head())\n",
    "X_train, X_test, y_train, y_test=train_test_split(X,y)\n",
    "X_train.head()\n",
    "y_train.head()\n",
    "\"\"\"\n",
    "svr_rbf = SVR(kernel='rbf', C=1e2, gamma=0.1)\n",
    "svr_lin = SVR(kernel='linear', C=1e3)\n",
    "linear= LinearRegression()\n",
    "rfr= RandomForestRegressor()\n",
    "abr=AdaBoostRegressor()\n",
    "#svr_pol = SVR(kernel='poly', C=1e3, degree=2)\n",
    "svr_rbf.fit(X_train, y_train) \n",
    "svr_lin.fit(X_train, y_train) \n",
    "linear.fit(X_train, y_train) \n",
    "rfr.fit(X_train, y_train)\n",
    "abr.fit(X_train, y_train)\n",
    "#svr_pol.fit(X_train, y_train)\n",
    "\n",
    "y_rbf_predict_train = svr_rbf.predict(X_train)\n",
    "y_rbf_predict_test =  svr_rbf.predict(X_test)\n",
    "y_lin_predict_train = svr_lin.predict(X_train)\n",
    "y_lin_predict_test =  svr_lin.predict(X_test)\n",
    "y_linear_predict_train = linear.predict(X_train)\n",
    "y_linear_predict_test =  linear.predict(X_test)\n",
    "y_rfr_predict_train = rfr.predict(X_train)\n",
    "y_rfr_predict_test =  rfr.predict(X_test)\n",
    "y_abr_predict_train = abr.predict(X_train)\n",
    "y_abr_predict_test =  abr.predict(X_test)\n",
    "\n",
    "\n",
    "#y_pol_predict_train = svr_pol.predict(X_train)\n",
    "#y_pol_predict_test =  svr_pol.predict(X_test)\n",
    "\n",
    "print(error_predict(y_train,y_rbf_predict_train),error_predict(y_test,y_rbf_predict_test))\n",
    "print(error_predict(y_train,y_lin_predict_train),error_predict(y_test,y_lin_predict_test))\n",
    "print(error_predict(y_train,y_linear_predict_train),error_predict(y_test,y_linear_predict_test))\n",
    "print(error_predict(y_train,y_rfr_predict_train),error_predict(y_test,y_rfr_predict_test))\n",
    "print(error_predict(y_train,y_abr_predict_train),error_predict(y_test,y_abr_predict_test))\n",
    "#print(error_predict(y_train,y_pol_predict_train),error_predict(y_test,y_pol_predict_test))\n",
    "\n",
    "scores = cross_val_score(svr_rbf, X, y, cv=5,scoring='neg_mean_squared_error')\"\"\""
   ]
  },
  {
   "cell_type": "code",
   "execution_count": null,
   "metadata": {
    "collapsed": true
   },
   "outputs": [],
   "source": [
    "#print(error[1],error[24])\n",
    "#for model in (svr_rbf,svr_lin,linear,rfr,abr):\n",
    "#    scores = cross_val_score(model, X, y, cv=10,scoring='neg_mean_squared_error')\n",
    "#    print(sqrt(-scores).mean())"
   ]
  },
  {
   "cell_type": "code",
   "execution_count": null,
   "metadata": {
    "collapsed": true
   },
   "outputs": [],
   "source": [
    "#simple predictor P[T(t)]=T(t-shift)\n",
    "def pred_shift(series,shift):\n",
    "    series_ok=series.dropna()\n",
    "    #return (sqrt(mean_squared_error(series_ok[shift:],series_ok.shift(shift)[shift:])))\n",
    "    error=((series_ok.shift(shift)-series_ok)**2).dropna().sum()/((series_ok.shift(shift)-series_ok)**2).dropna().count()\n",
    "    return sqrt(error)\n",
    "def pred_mean(series):\n",
    "    '''this is basically the std'''\n",
    "    series_ok=series.dropna()\n",
    "    return (sqrt(mean_squared_error(np.full(len(series_ok),series_ok.mean()),series_ok)))\n",
    "   # error=((series_ok.mean()-series_ok)**2).dropna().sum()/((series_ok.mean()-series_ok)**2).dropna().count()\n",
    "   # return sqrt(error)\n",
    "   # return series_ok.std()\n",
    "def error_predict(series1,series2):\n",
    "#compare to sklearn.metrics.mean_squared_error\n",
    "    error=((series1-series2)**2).sum()/((series1-series2)**2).count()\n",
    "    return sqrt(error)\n",
    "\n",
    "def pred_h_mean(series):\n",
    "    '''predicts the hourly mean and gives error'''\n",
    "    series_ok=series.dropna()\n",
    "    h_av=series.groupby(series.index.hour).mean().values\n",
    "    s2=pd.Series(index=series.index,data=h_av[series.index.hour])\n",
    "    return (sqrt(mean_squared_error(s2,series_ok)))\n",
    "\n",
    "def gen_h_mean(series,series2):\n",
    "    '''predicts the hourly mean\n",
    "    series is the train for getting the mean, series2 is the test (only need hour)'''\n",
    "    series_ok=series.dropna()\n",
    "    h_av=series.groupby(series.index.hour).mean().values\n",
    "    return(pd.Series(index=series2.index,data=h_av[series2.index.hour]))"
   ]
  },
  {
   "cell_type": "code",
   "execution_count": null,
   "metadata": {
    "collapsed": true
   },
   "outputs": [],
   "source": [
    "#linear regression via statsmodels.api\n",
    "\n",
    "import statsmodels.api as sm\n",
    "\n",
    "df_Temp=series_to_df(data_tot_h.Temp_ds,(1,0))\n",
    "df_Temp[\"hour\"]=sin(df_Temp.index.hour*2*pi/24)\n",
    "df_Temp[\"hour2\"]=cos(df_Temp.index.hour*2*pi/24)\n",
    "X=df_Temp.drop(\"d0\",axis=1)\n",
    "y=df_Temp[\"d0\"]\n",
    "##X_train, X_test, y_train, y_test=train_test_split(X,y)\n",
    "#frac=0.9\n",
    "#X_train=X.ix[:int(frac*X.shape[0]),:]\n",
    "#y_train=y.ix[:int(frac*y.shape[0])]\n",
    "#X_test=X.ix[int(frac*X.shape[0]):,:]\n",
    "#y_test=y.ix[int(frac*y.shape[0]):]\n",
    "X_train=X\n",
    "y_train=y\n",
    "\n",
    "X_train2 = sm.add_constant(X_train)\n",
    "X_test2 = sm.add_constant(X_test)\n",
    "#print(X_train2.head())\n",
    "model = sm.OLS(y_train,X_train2)\n",
    "result = model.fit()\n",
    "print(result.summary())\n",
    "print(result.params)\n",
    "\n",
    "\n",
    "##result = sm.ols(y_train,X_train,formula=\"A ~ B + C\").fit()\n",
    "\n",
    "y_hat = result.predict(X_train2)\n",
    "#y_hat2 = result.predict(X_test2)\n",
    "#plt.scatter(X_train, y_train, alpha=0.3)\n",
    "#plt.scatter(X_test, y_test, alpha=0.3,color='r')\n",
    "#plt.plot(X_train2.iloc[:,1],y_hat)\n",
    "#plt.plot(X_test2.iloc[:,1],y_hat2,color='r')\n",
    "\n",
    "print(error_predict(y_hat,y_train))\n",
    "print(error[1], error[12],error[24],pred_mean(data_tot_h.Temp_ds))\n",
    "#print(error_predict(y_hat2,y_test))"
   ]
  },
  {
   "cell_type": "code",
   "execution_count": null,
   "metadata": {
    "collapsed": true
   },
   "outputs": [],
   "source": [
    "#linear regression via statsmodels.formula.api, R style\n",
    "import statsmodels.formula.api as smf\n",
    "df_Temp=series_to_df(data_tot_h.Temp_ds,(24,2,1,0))\n",
    "#'here I add sin and cos of hour, as described below\n",
    "df_Temp[\"hour\"]=sin(df_Temp.index.hour*2*pi/24)\n",
    "df_Temp[\"hour2\"]=cos(df_Temp.index.hour*2*pi/24)\n",
    "df_Temp[\"hour3\"]=sin(df_Temp.index.hour*4*pi/24)\n",
    "df_Temp[\"hour4\"]=cos(df_Temp.index.hour*4*pi/24)\n",
    "#frac=0.5\n",
    "#df_Temp_train=df_Temp.ix[:int(frac*X.shape[0]),:]\n",
    "#df_Temp_test=df_Temp.ix[int(frac*X.shape[0]):,:]\n",
    "df_Temp_train=df_Temp\n",
    "\n",
    "result = smf.ols(\"d0 ~ d1*hour + d1*hour2 +d1*hour3 + d1*hour4\",df_Temp_train).fit()\n",
    "print(result.summary())\n",
    "print(result.params)\n",
    "predict_train=result.predict(df_Temp_train)\n",
    "#predict_test=result.predict(df_Temp_test)\n",
    "print(\"train error:\",error_predict(predict_train,df_Temp_train.d0))\n",
    "#print(\"test error:\",error_predict(predict_test,df_Temp_test.d0))\n",
    "print(\"baseline predictors (1, 24):\",error[1],error[24])\n",
    "print(sqrt(result.mse_resid))\n"
   ]
  },
  {
   "cell_type": "code",
   "execution_count": null,
   "metadata": {
    "collapsed": true
   },
   "outputs": [],
   "source": [
    "print(result.mse_total,result.mse_resid, result.mse_model, result.ess,result.rsquared, result.ssr)\n",
    "import statsmodels\n",
    "\n",
    "f, ax = plt.subplots(1,2,figsize=(10,4))\n",
    "ax[0].plot(result.resid,'o')\n",
    "ax[1].hist(result.resid,bins=50);\n",
    "#remove outliers\n",
    "resid2=result.resid[abs(result.resid)<4]\n",
    "for a in (result.resid,resid2):\n",
    "    print(scipy.stats.normaltest(a))\n",
    "    print(scipy.stats.shapiro(a))\n",
    "    print(lillifors(a))\n",
    "    print(scipy.stats.jarque_bera(a))\n",
    "    print(scipy.stats.kstest((a-np.mean(a))/np.std(a,ddof=1), 'norm'))\n",
    "    print(statsmodels.stats.stattools.durbin_watson(a))"
   ]
  },
  {
   "cell_type": "code",
   "execution_count": null,
   "metadata": {
    "collapsed": true,
    "scrolled": true
   },
   "outputs": [],
   "source": [
    "#linear regression via sklearn LinearRegression\n",
    "#lasso to select features\n",
    "#list of hours to fit\n",
    "#-- do grid search on alfa\n",
    "# other feature selesction algorithms\n",
    "from sklearn.svm import SVR\n",
    "from sklearn.linear_model import LinearRegression\n",
    "from sklearn.linear_model import Lasso\n",
    "from sklearn.linear_model import Ridge\n",
    "from sklearn.ensemble import RandomForestRegressor\n",
    "from sklearn.ensemble import AdaBoostRegressor\n",
    "from sklearn.model_selection import train_test_split\n",
    "from sklearn.model_selection import cross_val_score\n",
    "from statsmodels.stats.diagnostic import lillifors\n",
    "from sklearn.metrics import mean_squared_error\n",
    "from sklearn.covariance import EllipticEnvelope\n",
    "from sklearn.preprocessing import StandardScaler\n",
    "\n",
    "a=(np.arange(30,0,-1))\n",
    "b=np.append(a,0).tolist()\n",
    "#print(b)\n",
    "df_Temp=series_to_df(data_tot_h.Temp_ds,b)\n",
    "df_Temp[\"hour\"]=sin(df_Temp.index.hour*2*pi/24)\n",
    "df_Temp[\"hour2\"]=cos(df_Temp.index.hour*2*pi/24)\n",
    "X=df_Temp.drop(\"d0\",axis=1)\n",
    "print(X.columns)\n",
    "y=df_Temp[\"d0\"]\n",
    "#X_train, X_test, y_train, y_test=train_test_split(X,y)\n",
    "frac=1\n",
    "X_train=X.ix[:int(frac*X.shape[0])-1,:]\n",
    "y_train=y.ix[:int(frac*y.shape[0])-1]\n",
    "X_test=X.ix[int(frac*X.shape[0])-1:,:]\n",
    "y_test=y.ix[int(frac*y.shape[0])-1:]\n",
    "#linear= LinearRegression(fit_intercept=True)\n",
    "linear= Lasso(fit_intercept=True,alpha=0.05)\n",
    "#linear= Ridge(fit_intercept=True,alpha=0.01)\n",
    "linear.fit(X_train, y_train) \n",
    "y_linear_predict_train = linear.predict(X_train)\n",
    "y_linear_predict_test =  linear.predict(X_test)\n",
    "scores = cross_val_score(linear, X, y, cv=30,scoring='neg_mean_squared_error')\n",
    "print(\"crossval: \",sqrt(-scores.mean()))\n",
    "print(\"train: \",error_predict(y_linear_predict_train,y_train))\n",
    "#print(b[abs(linear.coef_)>1e-8])\n",
    "mask=abs(linear.coef_)>1e-8\n",
    "print(\"number of features:\",mask.sum(), \" out of:\", mask.size)\n",
    "print(X.columns[mask])\n",
    "print(linear.coef_[mask],linear.intercept_)\n",
    "print(\"baseline predictors (1, 24):\",error[1],error[24])"
   ]
  },
  {
   "cell_type": "code",
   "execution_count": null,
   "metadata": {
    "collapsed": true
   },
   "outputs": [],
   "source": [
    "#PCA\n",
    "from sklearn.decomposition import PCA\n",
    "pca = PCA(n_components=3)\n",
    "pca.fit(X)\n",
    "X_pca = pca.transform(X)\n",
    "X_pca\n",
    "#plt.plot(X_pca[:,0],X_pca[:,1],\"o\")\n",
    "\n",
    "#Kbest\n",
    "from sklearn.feature_selection import SelectKBest\n",
    "from sklearn.feature_selection import f_regression\n",
    "kbest= SelectKBest(f_regression, k=5)\n",
    "kbest.fit(X,y)\n",
    "X_new=kbest.fit_transform(X, y)\n",
    "print(kbest.scores_)\n",
    "#plt.plot(X_new[:,0],y,\"o\")\n",
    "#print(X_new)\n",
    "X.columns[kbest.get_support()]\n",
    "linear= LinearRegression(fit_intercept=True)\n",
    "linear.fit(X_new, y) \n",
    "y_linear_predict = linear.predict(X_new)\n",
    "print(\"Kbest train: \",error_predict(y_linear_predict,y))\n",
    "\n",
    "#LDA only for classification\n",
    "#from sklearn.lda import LDA\n",
    "#lda=LDA(n_components=2)\n",
    "#lda.fit(X,y)\n",
    "#X_lda = lda.transform(X)\n",
    "#print(\"llda train: \",error_predict(y_predict_lda,y))"
   ]
  },
  {
   "cell_type": "code",
   "execution_count": null,
   "metadata": {
    "collapsed": true,
    "scrolled": true
   },
   "outputs": [],
   "source": [
    "#sfruttare l'orario come feature, qui uso sklearn (in pratica e' un Fouries fit)\n",
    "a=(np.arange(1,0,-1))\n",
    "b=np.append(a,0).tolist()\n",
    "print(b)\n",
    "df_Temp=series_to_df(data_tot_h.Temp_ds,b)\n",
    "df_Temp[\"hour\"]=sin(df_Temp.index.hour*2*pi/24)\n",
    "df_Temp[\"hour2\"]=cos(df_Temp.index.hour*2*pi/24)\n",
    "#df_Temp[\"hour3\"]=sin(df_Temp.index.hour*4*pi/24)\n",
    "#df_Temp[\"hour4\"]=cos(df_Temp.index.hour*4*pi/24)\n",
    "#df_Temp[\"day\"]=df_Temp.index.dayofyear-df_Temp.index.dayofyear[0]\n",
    "X=df_Temp.drop(\"d0\",axis=1)\n",
    "y=df_Temp[\"d0\"]\n",
    "#y=df_Temp.ix[:,-1]\n",
    "#df_Temp\n",
    "frac=0.99\n",
    "X_train=X.ix[:int(frac*X.shape[0]),:]\n",
    "y_train=y.ix[:int(frac*y.shape[0])]\n",
    "X_test=X.ix[int(frac*X.shape[0]):,:]\n",
    "y_test=y.ix[int(frac*y.shape[0]):]\n",
    "linear= LinearRegression(fit_intercept=True)\n",
    "linear.fit(X_train, y_train) \n",
    "y_linear_predict_train = linear.predict(X_train)\n",
    "y_linear_predict_test =  linear.predict(X_test)\n",
    "scores = cross_val_score(linear, X, y, cv=30,scoring='neg_mean_squared_error')\n",
    "print(sqrt(-scores.mean()))\n",
    "print(linear.coef_,linear.intercept_)\n",
    "print(\"baseline predictors (1, 24):\",error[1],error[24])"
   ]
  },
  {
   "cell_type": "code",
   "execution_count": null,
   "metadata": {
    "collapsed": true
   },
   "outputs": [],
   "source": [
    "#normality test of residuals\n",
    "f, ax = plt.subplots(2,2,figsize=(12,10))\n",
    "ax[0,0].plot(y_linear_predict_train)\n",
    "ax[0,0].plot(df_Temp.d0.values,\"o\")\n",
    "residuals=y_linear_predict_train-y_train\n",
    "ax[0,1].plot(residuals,\"o\")\n",
    "scipy.stats.probplot(residuals,plot=ax[1,0]);\n",
    "ax[1,1].hist(residuals,bins=20);\n",
    "print(scipy.stats.normaltest(residuals))\n",
    "error_predict(y_linear_predict_train,y_train)\n"
   ]
  },
  {
   "cell_type": "code",
   "execution_count": null,
   "metadata": {
    "collapsed": true
   },
   "outputs": [],
   "source": [
    "#normality test of original distribution\n",
    "\n",
    "#f, ax = plt.subplots(1,2,figsize=(10,4))\n",
    "from scipy.stats import probplot\n",
    "#probplot(df_Temp.d0,plot=ax[0]);\n",
    "#ax[1].hist(df_Temp.d0,bins=30);\n",
    "\n",
    "print(scipy.stats.normaltest(df_Temp.d0))\n",
    "#print(scipy.stats.mstats.normaltest(df_Temp.d0))\n",
    "print(scipy.stats.shapiro(df_Temp.d0))\n",
    "print(lillifors(df_Temp.d0))\n",
    "print(scipy.stats.kstest((df_Temp.d0-np.mean(df_Temp.d0))/np.std(df_Temp.d0,ddof=1), 'norm'))\n",
    "print(scipy.stats.jarque_bera(df_Temp.d0))\n",
    "\n",
    "#this should be for residuals\n",
    "print(statsmodels.stats.stattools.durbin_watson(df_Temp.d0))"
   ]
  },
  {
   "cell_type": "code",
   "execution_count": null,
   "metadata": {
    "collapsed": true
   },
   "outputs": [],
   "source": [
    "'''f, ax = plt.subplots(3,2,figsize=(10,12))\n",
    "ax=ax.flatten()\n",
    "df_Temp.d0.plot(kind='box',ax=ax[0])\n",
    "df_Temp.d0.plot(kind='hist',ax=ax[1],bins=30)\n",
    "df_Temp.d0.diff(1).plot(kind='box',ax=ax[2])\n",
    "df_Temp.d0.diff(1).plot(kind='hist',ax=ax[3],bins=30)\n",
    "print(scipy.stats.normaltest(df_Temp.d0))\n",
    "print(scipy.stats.normaltest(df_Temp.d0.diff(1).dropna()))\n",
    "print(scipy.stats.normaltest(df_Temp.d0.diff(1).diff(24).dropna()))\n",
    "print(scipy.stats.normaltest(df_Temp.d0.diff(24).dropna()))\n",
    "print(statsmodels.stats.stattools.durbin_watson(df_Temp.d0))\n",
    "print(statsmodels.stats.stattools.durbin_watson(df_Temp.d0.diff(1).dropna()))\n",
    "print(statsmodels.stats.stattools.durbin_watson(df_Temp.d0.diff(1).diff(24).dropna()))\n",
    "print(statsmodels.stats.stattools.durbin_watson(df_Temp.d0.diff(24).dropna()))\n",
    "#EllipticEnvelope().fit(df_Temp.d0.diff(1).dropna().index,df_Temp.d0.diff(1).dropna().values)\n",
    "#df1=StandardScaler.fit_transform(df_Temp.d0.diff(1).dropna().values)\n",
    "df1=(df_Temp.d0.diff(1).dropna()-df_Temp.d0.diff(1).mean())/df_Temp.d0.diff(1).std()\n",
    "df1.plot(kind='hist',ax=ax[4],bins=30)\n",
    "df1[abs(df1)>3]\n",
    "df2=df1[abs(df1)<3]\n",
    "df2.plot(kind='hist',ax=ax[5],bins=30)\n",
    "print(scipy.stats.normaltest(df2))'''"
   ]
  },
  {
   "cell_type": "code",
   "execution_count": null,
   "metadata": {
    "collapsed": true,
    "scrolled": true
   },
   "outputs": [],
   "source": [
    "#Time series: ad fuller and decomposition\n",
    "series=data_tot_h.Temp_ds.dropna()\n",
    "\n",
    "from statsmodels.tsa.stattools import adfuller\n",
    "print(adfuller(series)[1])\n",
    "print(adfuller(series.diff(1).dropna())[1])\n",
    "print(adfuller(series.diff(24).dropna())[1])\n",
    "print(adfuller(series.diff(24).diff(1).dropna())[1])\n",
    "\n",
    "\n",
    "from statsmodels.tsa.seasonal import seasonal_decompose\n",
    "f, ax = plt.subplots(2,2,figsize=(12,8))\n",
    "ax=ax.flatten()\n",
    "decomposition = seasonal_decompose(series,freq=24)\n",
    "trend = decomposition.trend\n",
    "seasonal = decomposition.seasonal\n",
    "residual = decomposition.resid\n",
    "ax[0].plot(trend)\n",
    "ax[1].plot(seasonal)\n",
    "ax[2].plot(residual)\n",
    "ax[3].plot(trend+seasonal+residual)\n",
    "decomposition2 = seasonal_decompose(df_Temp.d0,freq=24,model=\"mult\")\n",
    "ax[0].plot(decomposition2.trend,\"p\")\n",
    "ax[1].plot(decomposition2.seasonal)\n",
    "ax[2].plot(decomposition2.resid)\n",
    "\n",
    "\n",
    "series.resample(\"24h\").mean().plot(ax=ax[0])\n",
    "\n",
    "print (\"\")\n",
    "print(adfuller(residual.dropna())[1])\n",
    "print(adfuller(decomposition2.resid.dropna())[1])\n",
    "print(scipy.stats.normaltest(residual.dropna()))\n",
    "print(scipy.stats.normaltest(decomposition2.resid.dropna()))\n",
    "#df_Temp.d0.index"
   ]
  },
  {
   "cell_type": "code",
   "execution_count": null,
   "metadata": {
    "collapsed": true
   },
   "outputs": [],
   "source": [
    "import scipy.signal\n",
    "\n",
    "series=data_tot_h.Temp_ds\n",
    "#series=residual\n",
    "#series=decomposition2.resid\n",
    "\n",
    "series=series.dropna()\n",
    "#conv=scipy.signal.fftconvolve(Temp_h.values,Temp_h.values)\n",
    "#plt.plot(conv)\n",
    "import statsmodels.tsa.stattools\n",
    "autocorr=statsmodels.tsa.stattools.acf(series,nlags=80)\n",
    "#plt.plot(autocorr,\"o\")\n",
    "pautocorr=statsmodels.tsa.stattools.pacf(series,nlags=50)\n",
    "#plt.plot(pautocorr,\"o\")\n",
    "import statsmodels.graphics.tsaplots\n",
    "\n",
    "#statsmodels.graphics.tsaplots.plot_pacf(Temp_h,lags=30)\n",
    "series_d=series.diff()[1:]\n",
    "#statsmodels.graphics.tsaplots.plot_acf(Temp_h_d,lags=50)\n",
    "#statsmodels.graphics.tsaplots.plot_pacf(Temp_h_d,lags=30)\n",
    "series_d.tail()\n",
    "#statsmodels.graphics.tsaplots.plot_acf(Hum_h,lags=50)\n",
    "#statsmodels.graphics.tsaplots.plot_pacf(Hum_h,lags=30)\n",
    "#Hum_h_d=Hum_h.diff()[1:];\n",
    "#statsmodels.graphics.tsaplots.plot_acf(Temp_h_d,lags=50)\n",
    "#statsmodels.graphics.tsaplots.plot_pacf(Temp_h_d,lags=30)\n",
    "#Hum_h_d.tail()\n",
    "#statsmodels.graphics.tsaplots.plot_acf(data_tot_h.Temp_ds.dropna(),lags=50);\n",
    "#statsmodels.graphics.tsaplots.plot_pacf(data_tot_h.Temp_ds.dropna(),lags=50);\n",
    "#statsmodels.graphics.tsaplots.plot_acf(data_tot_h.Temp_ds.diff(24).diff(1).dropna(),lags=50);\n",
    "statsmodels.graphics.tsaplots.plot_acf(series,lags=50)\n",
    "statsmodels.graphics.tsaplots.plot_acf(series.diff(1).dropna(),lags=50);\n",
    "statsmodels.graphics.tsaplots.plot_acf(series.diff(24).dropna(),lags=50);\n",
    "statsmodels.graphics.tsaplots.plot_acf(series.diff(1).diff(24).dropna(),lags=50);\n",
    "#statsmodels.graphics.tsaplots.plot_pacf(series.diff(1).diff(24).dropna(),lags=50);\n",
    "#Temp_h_d=Temp_h.diff()[1:]"
   ]
  },
  {
   "cell_type": "code",
   "execution_count": null,
   "metadata": {
    "collapsed": true
   },
   "outputs": [],
   "source": [
    "#data_tot_h.Temp_ds.resample(\"24H\").mean().dropna()"
   ]
  },
  {
   "cell_type": "code",
   "execution_count": null,
   "metadata": {
    "collapsed": true
   },
   "outputs": [],
   "source": [
    "#ARIMA\n",
    "#with differentiation does not work, why? use predict(typ=\"levels\")\n",
    "from statsmodels.tsa.arima_model import ARIMA\n",
    "\n",
    "series=data_tot_h.Temp_ds.dropna()\n",
    "#series=data_tot_h.Temp_ds.resample(\"24H\").mean().dropna()\n",
    "\n",
    "f, ax = plt.subplots(2,2,figsize=(12,8))\n",
    "ax=ax.flatten()\n",
    "\n",
    "#model = ARIMA(series, order=(2, 1, 0))  \n",
    "#results_AR = model.fit(disp=-1)  \n",
    "#ax[0].plot(series.diff())\n",
    "#ax[0].plot(results_AR.fittedvalues, color='red')\n",
    "#ax[0].set_title('MSE: %.4f'% mean_squared_error(results_AR.fittedvalues,series.diff().dropna()))\n",
    "#print()\n",
    "\n",
    "#model = ARIMA(series, order=(0, 1, 1))  \n",
    "#results_MA = model.fit(disp=-1)  \n",
    "#ax[1].plot(series.diff())\n",
    "#ax[1].plot(results_MA.fittedvalues, color='red')\n",
    "#ax[1].set_title('MSE: %.4f'% mean_squared_error(results_MA.fittedvalues,series.diff().dropna()))\n",
    "\n",
    "\n",
    "model = ARIMA(series, order=(2, 1, 1))  \n",
    "results_ARIMA_211 = model.fit(disp=-1)  \n",
    "predict_ARIMA_211=results_ARIMA_211.predict(typ=\"levels\")\n",
    "#predict_ARIMA_211 = model.predict(results_ARIMA_211)  \n",
    "ax[0].plot(series.diff().dropna())\n",
    "ax[0].plot(results_ARIMA_211.fittedvalues, color='red')\n",
    "ax[0].plot(predict_ARIMA_211, color='k')\n",
    "ax[0].set_title('211 MSE: %.4f'% sqrt(mean_squared_error(results_ARIMA_211.fittedvalues,series.diff().dropna())))\n",
    "\n",
    "model = ARIMA(series.diff().dropna(), order=(2, 0, 1))  \n",
    "results_ARIMA_201d = model.fit(disp=-1)  \n",
    "predict_ARIMA_201d=results_ARIMA_201d.predict()\n",
    "ax[1].plot(series.diff())\n",
    "ax[1].plot(results_ARIMA_201d.fittedvalues, color='red')\n",
    "ax[1].plot(predict_ARIMA_201d, color='k')\n",
    "ax[1].set_title('201d MSE: %.4f'% sqrt(mean_squared_error(results_ARIMA_201d.fittedvalues,series.diff().dropna())))\n",
    "\n",
    "\n",
    "model = ARIMA(series, order=(2, 0, 1))  \n",
    "results_ARIMA_201 = model.fit(disp=-1) \n",
    "predict_ARIMA_201=results_ARIMA_201.predict()\n",
    "ax[2].plot(series)\n",
    "ax[2].plot(results_ARIMA_201.fittedvalues, color='red')\n",
    "ax[2].plot(predict_ARIMA_201, color='k')\n",
    "ax[2].set_title('201 MSE: %.4f'% sqrt(mean_squared_error(results_ARIMA_201.fittedvalues,series.dropna())))\n",
    "\n",
    "\n",
    "for ma in range(3):\n",
    "    for ar in range(3):\n",
    "        model = ARIMA(series, order=(ar, 1, ma))  \n",
    "        predict_ARIMA_n = model.fit(disp=-1).predict(typ=\"levels\") \n",
    "        print(ar,1,ma,sqrt(mean_squared_error(predict_ARIMA_n,series[1:])))\n",
    "        #print(ar,1,ma,error_predict(results_ARIMA.fittedvalues,series.diff().dropna()))\n",
    "\n",
    "for ma in range(3):\n",
    "    for ar in range(3):\n",
    "        try:\n",
    "            model = ARIMA(series, order=(ar, 0, ma))  \n",
    "            predict_ARIMA_n = model.fit(disp=-1).predict()\n",
    "            print(ar,0,ma,sqrt(mean_squared_error(predict_ARIMA_n,series)))\n",
    "        except:\n",
    "            pass\n",
    "#        print(ar,ma,error_predict(results_ARIMA.fittedvalues,series.diff().dropna()))\n",
    "\n",
    "\n",
    "\n",
    "#prediction_201=results_ARIMA_201.fittedvalues\n",
    "#prediction_211=results_ARIMA_211.fittedvalues\n",
    "#prediction_211i=prediction_211.cumsum()\n",
    "#prediction_211i+=series[0]\n",
    "#prediction_201d=results_ARIMA_201d.fittedvalues\n",
    "#prediction_201di=prediction_201d.cumsum()\n",
    "#prediction_201di+=series[0]\n",
    "\n",
    "#prediction_211=results_ARIMA_211.\n",
    "\n",
    "#ax[3].plot(prediction_201)        \n",
    "ax[3].plot(series) \n",
    "#ax[3].plot(prediction_211i)        \n",
    "#ax[3].plot(prediction_201di) \n",
    "ax[3].plot(predict_ARIMA_201)\n",
    "ax[3].plot(predict_ARIMA_211)\n",
    "#ax[3].plot(predict_ARIMA_201d.cumsum())\n",
    "#print(sqrt(mean_squared_error(prediction_201,series)))\n",
    "#print(sqrt(mean_squared_error(prediction_211,series.diff()[1:])))\n",
    "#print(sqrt(mean_squared_error(prediction_211i,series[1:])))\n",
    "#print(sqrt(mean_squared_error(prediction_201di,series[1:])))\n",
    "\n",
    "\n",
    "#(0,0,0) is like predicting the mean\n",
    "#(0,1,0) is like predicting with shift 1\n",
    "\n",
    "print(\"201 \", sqrt(mean_squared_error(predict_ARIMA_201,series)))\n",
    "print(\"211 \", sqrt(mean_squared_error(predict_ARIMA_211,series[1:])))\n",
    "print(pred_shift(series,1),pred_mean(series))\n",
    "\n",
    "#reconstruct the prediction with d=1!\n",
    "#ax[4].plot(prediction_201.diff())        \n",
    "#ax[4].plot(series.diff()) \n",
    "#ax[4].plot(prediction_211i.diff())        \n",
    "#ax[4].plot(prediction_201di.diff())\n",
    "\n",
    "#print(sqrt(mean_squared_error(prediction_201.diff().dropna(),series.diff().dropna())))\n",
    "#print(sqrt(mean_squared_error(prediction_211.dropna(),series.diff().dropna())))\n",
    "#print(sqrt(mean_squared_error(prediction_211i.diff().dropna(),series[1:].diff().dropna())))\n",
    "#print(sqrt(mean_squared_error(prediction_201di.diff().dropna(),series[1:].diff().dropna())))\n"
   ]
  },
  {
   "cell_type": "code",
   "execution_count": null,
   "metadata": {
    "collapsed": true
   },
   "outputs": [],
   "source": [
    "#seasonal ARIMA\n",
    "series=data_tot_h.Temp_ds.dropna()\n",
    "#for p in (2,): #range(3):\n",
    "#    for q in (1,): #range(3):\n",
    "#        for d in (1,): #range(2):\n",
    "\"\"\"for p,d,q in ((0,1,0),(2,1,1)):\n",
    "        try:\n",
    "            mod = sm.tsa.statespace.SARIMAX(series, trend='n', order=(p,d,q))\n",
    "            results = mod.fit()\n",
    "            predict=results.predict()\n",
    "            print(p,d,q, sqrt(mean_squared_error(predict,series)))\n",
    "        except:\n",
    "            print (p,d,q, \"value error\")\n",
    "        for P in range(3):\n",
    "                for D in range(2):\n",
    "                    for Q in range(3):\n",
    "                        try:\n",
    "                            mod = sm.tsa.statespace.SARIMAX(series, trend='n', order=(p,d,q), seasonal_order=(P,D,Q,24))\n",
    "                            results = mod.fit()\n",
    "                            predict=results.predict()\n",
    "                            print(p,d,q,P,D,Q, sqrt(mean_squared_error(predict,series)))\n",
    "                        except ValueError:\n",
    "                            print (p,d,q,P,D,Q, \"value error\")\n",
    "                            #pass\n",
    "#print(results.summary())\n",
    "print(pred_shift(series,1),pred_mean(series))\n",
    "\n",
    "\n",
    "f, ax = plt.subplots(2,2,figsize=(12,8))\n",
    "ax=ax.flatten()\n",
    "ax[0].plot(series)\n",
    "ax[0].plot(predict)\n",
    "\"\"\""
   ]
  },
  {
   "cell_type": "code",
   "execution_count": null,
   "metadata": {
    "collapsed": true
   },
   "outputs": [],
   "source": [
    "#daily  series\n"
   ]
  },
  {
   "cell_type": "code",
   "execution_count": null,
   "metadata": {
    "collapsed": true
   },
   "outputs": [],
   "source": [
    "#arima for day\n",
    "#series=data_tot_h.Temp_ds.resample(\"24H\").mean().dropna()\n",
    "\"\"\"series=data_tot_h.Temp_22.resample(\"24H\").mean().dropna()\n",
    "series.plot(style='o')\n",
    "for ma in range(3):\n",
    "    for ar in range(3):\n",
    "        try:\n",
    "            model = ARIMA(series, order=(ar, 1, ma))  \n",
    "            predict_ARIMA_n = model.fit(disp=-1).predict(typ=\"levels\") \n",
    "            print(ar,1,ma,sqrt(mean_squared_error(predict_ARIMA_n,series[1:])))\n",
    "            #print(ar,1,ma,error_predict(results_ARIMA.fittedvalues,series.diff().dropna()))\n",
    "        except: #LinAlgError:\n",
    "            print(ar,1,ma,\"print(ar,0,ma,sqrt(mean_squared_error(predict_ARIMA_n,series)))\")\n",
    "\n",
    "for ma in range(3):\n",
    "    for ar in range(3):\n",
    "        try:\n",
    "            model = ARIMA(series, order=(ar, 0, ma))  \n",
    "            fit=model.fit(disp=0)\n",
    "            predict_ARIMA_n = model.fit(disp=-1).predict()\n",
    "            print(ar,0,ma,sqrt(mean_squared_error(predict_ARIMA_n,series)))\n",
    "        except: #LinAlgError:\n",
    "            print(ar,0,ma,\"print(ar,0,ma,sqrt(mean_squared_error(predict_ARIMA_n,series)))\")\n",
    "            \n",
    "print(fit.summary())\n",
    "\n",
    "residuals = DataFrame(fit.resid)\n",
    "residuals.plot(kind='kde')\"\"\""
   ]
  },
  {
   "cell_type": "code",
   "execution_count": null,
   "metadata": {
    "collapsed": true
   },
   "outputs": [],
   "source": [
    "#use R fro seasonal arima!"
   ]
  },
  {
   "cell_type": "code",
   "execution_count": null,
   "metadata": {
    "collapsed": true
   },
   "outputs": [],
   "source": [
    "#predict with arima\n",
    "from pandas import read_csv\n",
    "from pandas import datetime\n",
    "from matplotlib import pyplot\n",
    "from statsmodels.tsa.arima_model import ARIMA\n",
    "from sklearn.metrics import mean_squared_error\n",
    "\"\"\"\n",
    "def parser(x):\n",
    "\treturn datetime.strptime('190'+x, '%Y-%m')\n",
    " \n",
    "series = read_csv('shampoo-sales.csv', header=0, parse_dates=[0], index_col=0, squeeze=True, date_parser=parser)\n",
    "X = series.values\n",
    "size = int(len(X) * 0.66)\n",
    "train, test = X[0:size], X[size:len(X)]\n",
    "history = [x for x in train]\n",
    "predictions = list()\n",
    "for t in range(len(test)):\n",
    "\tmodel = ARIMA(history, order=(5,1,0))\n",
    "\tmodel_fit = model.fit(disp=0)\n",
    "\toutput = model_fit.forecast()\n",
    "\tyhat = output[0]\n",
    "\tpredictions.append(yhat)\n",
    "\tobs = test[t]\n",
    "\thistory.append(obs)\n",
    "\tprint('predicted=%f, expected=%f' % (yhat, obs))\n",
    "error = mean_squared_error(test, predictions)\n",
    "print('Test MSE: %.3f' % error)\n",
    "# plot\n",
    "pyplot.plot(test)\n",
    "pyplot.plot(predictions, color='red')\n",
    "pyplot.show()\"\"\""
   ]
  },
  {
   "cell_type": "code",
   "execution_count": null,
   "metadata": {
    "collapsed": true
   },
   "outputs": [],
   "source": [
    "#fourier transform of the series\n",
    "df=data_tot_h.Temp_22.fillna(data_tot_h.Temp_22.mean())\n",
    "X = scipy.fft(df)\n",
    "Y=np.fft.fft(df)\n",
    "freq=np.fft.fftfreq(len(df))*24\n",
    "plt.plot(freq,abs(X),'o')\n",
    "plt.xlim(-2.5,2.5)\n",
    "plt.ylim(0,100)\n",
    "X[1:].argmax()\n",
    "#plt.plot(abs(Y))"
   ]
  },
  {
   "cell_type": "code",
   "execution_count": null,
   "metadata": {
    "collapsed": true
   },
   "outputs": [],
   "source": [
    "\n"
   ]
  },
  {
   "cell_type": "code",
   "execution_count": null,
   "metadata": {
    "collapsed": true
   },
   "outputs": [],
   "source": [
    "#other quantities other than T!"
   ]
  },
  {
   "cell_type": "code",
   "execution_count": null,
   "metadata": {
    "collapsed": true
   },
   "outputs": [],
   "source": [
    "time_wind=pd.read_csv('WIND2.TXT', sep='\\t',header=None, names = [\"time\"])\n",
    "time_wind2=pd.read_csv('WIND2B.TXT', sep='\\t',header=None, names = [\"time\"])\n",
    "time_wind3=pd.read_csv('WIND2C.TXT', sep='\\t',header=None, names = [\"time\"])\n",
    "f, ax = plt.subplots(2,2,figsize=(12,8))\n",
    "ax=ax.flatten()\n",
    "#voglio i tempi di attesa in millisec\n",
    "for i,a in enumerate((time_wind,time_wind2,time_wind3)):\n",
    "    a=a.diff(1)[1:]\n",
    "    a=a[(a>0) & (a<1000)]\n",
    "    a.dropna(how=\"any\")\n",
    "    print(a.dropna().describe())\n",
    "    a.hist(bins=100,ax=ax[i])\n",
    "time_wind3_diff=time_wind3.diff(1)[1:]\n",
    "time_wind3_diff=time_wind3_diff[(time_wind3_diff>0) & (time_wind3_diff<10000)]\n",
    "np.log10(time_wind3_diff).hist(bins=100,ax=ax[3])\n",
    "#ax[3].hist(time_wind3, log=True)\n",
    "#plot_url = py.plot_mpl(f)"
   ]
  },
  {
   "cell_type": "code",
   "execution_count": null,
   "metadata": {
    "collapsed": true
   },
   "outputs": [],
   "source": [
    "time_wind3_diff.min()\n"
   ]
  },
  {
   "cell_type": "code",
   "execution_count": null,
   "metadata": {
    "collapsed": true
   },
   "outputs": [],
   "source": [
    "index=data_tot_h.Light3.dropna().index\n",
    "data_tot_h.Light3.dropna().plot()\n",
    "(1024-data_tot_h.Light2.dropna()[index]).plot()\n",
    "(1024-data_tot_h.Light.dropna()[index]).plot()\n",
    "(1024-data_tot_h.IR.dropna()[index]).plot()\n",
    "plt.legend()"
   ]
  },
  {
   "cell_type": "code",
   "execution_count": null,
   "metadata": {
    "collapsed": true
   },
   "outputs": [],
   "source": [
    "data_tot_h.P_bmp.dropna()[index].plot()"
   ]
  },
  {
   "cell_type": "code",
   "execution_count": null,
   "metadata": {
    "collapsed": true
   },
   "outputs": [],
   "source": [
    "#finds conditions for rain\n",
    "fit = sm.GLM.from_formula('Rain_01 ~  Light', data=data_tot_h, family=sm.families.Binomial()).fit()\n",
    "print(fit.summary())\n",
    "print(fit.null_deviance - fit.deviance, fit.df_model)\n",
    "\n",
    "fit2 = sm.GLM.from_formula('Rain_01 ~  Hum_11 * P_bmp', data=data_tot_h, family=sm.families.Binomial()).fit()\n",
    "print(fit2.summary())\n",
    "print(fit2.null_deviance - fit2.deviance, fit2.df_model)"
   ]
  },
  {
   "cell_type": "code",
   "execution_count": null,
   "metadata": {
    "collapsed": true
   },
   "outputs": [],
   "source": [
    "#data_tot.R.dropna().plot()\n",
    "data_tot_h.R.dropna().plot(color='r')\n",
    "data_tot_h.G.dropna().plot(color='g')\n",
    "data_tot_h.B.dropna().plot(color='b')\n",
    "(data_tot_h.C/3).dropna().plot(style='--k')\n",
    "data_tot_h.Lux.dropna().plot(color='k')\n",
    "data_tot_h.Color_Temp[(data_tot_h.R>10)&(data_tot_h.G>10)&(data_tot_h.B>10)].plot(color='y')\n",
    "data_tot_h0.IR.tail(24).dropna().plot(style='rd')\n",
    "#data_tot.R.dropna().index"
   ]
  },
  {
   "cell_type": "code",
   "execution_count": null,
   "metadata": {
    "collapsed": true
   },
   "outputs": [],
   "source": [
    "data_tot_h0.Temp_ds.tail(48).plot()\n",
    "data_tot_h0.Temp_22.tail(48).plot()\n",
    "data_tot_h0.Temp_bmp.tail(48).plot()\n"
   ]
  },
  {
   "cell_type": "markdown",
   "metadata": {
    "collapsed": true
   },
   "source": [
    "# IOT workshop"
   ]
  },
  {
   "cell_type": "code",
   "execution_count": null,
   "metadata": {
    "collapsed": true
   },
   "outputs": [],
   "source": [
    "#data from 1st july\n",
    "import matplotlib as mpl\n",
    "mpl.rcParams['figure.figsize'] = (20, 15)\n",
    "data=data_tot[\"Temp_ds\"]\n",
    "data.dropna()\n",
    "from pandas import datetime\n",
    "init=datetime(2017, 6, 29, 0, 0, 0)\n",
    "mid=datetime(2017, 7, 13, 0, 0, 0)\n",
    "end=datenow\n",
    "\n",
    "data_train=data.iloc[(data.index >= init) & (data.index <= mid)]\n",
    "data_test=data.iloc[(data.index >= mid)]\n",
    "#data[init:]\n",
    "#data.index\n",
    "data_train.plot(label=\"train\")\n",
    "data_test.plot(label=\"test\")\n",
    "\n",
    "\n",
    "#median filtering\n",
    "from scipy.signal import medfilt\n",
    "data_train_f = medfilt(data_train)\n",
    "data_train_f=pd.Series(data_train_f)\n",
    "plt.plot(data_train.index,data_train_f, label=\"train median filtering\")\n",
    "plt.legend()\n",
    "\n",
    "data_test_f = medfilt(data_test)\n",
    "data_test_f=pd.Series(data_test_f)\n",
    "plt.plot(data_test.index,data_test_f, label=\"test median filtering\")\n",
    "plt.legend()\n"
   ]
  },
  {
   "cell_type": "code",
   "execution_count": null,
   "metadata": {
    "collapsed": true
   },
   "outputs": [],
   "source": [
    "resampling=\"1H\"\n",
    "data_train.plot()\n",
    "data_train_median=data_train.resample(resampling).median()\n",
    "data_train_mean=data_train.resample(resampling).mean()\n",
    "data_test_median=data_test.resample(resampling).median()\n",
    "data_test_mean=data_test.resample(resampling).mean()\n",
    "data_train_median.plot(label=\"median\")\n",
    "data_train_mean.plot(label=\"mean\")\n",
    "plt.legend()"
   ]
  },
  {
   "cell_type": "code",
   "execution_count": null,
   "metadata": {
    "collapsed": true
   },
   "outputs": [],
   "source": [
    "from statsmodels.tsa.arima_model import ARIMA\n",
    "series=data_train_median\n",
    "test=data_test_median\n",
    "\n",
    "\n",
    "print(\"Predmean:\",pred_mean(series))\n",
    "print(\"Predshi1:\",pred_shift(series,1))\n",
    "print(\"Prh24mea:\",pred_h_mean(series))\n",
    "\n",
    "plt.plot(series, label=\"train\")\n",
    "index_test=np.arange(data_train_median.size,data_train_median.size+data_test_median.size)\n",
    "plt.plot(data_test_median, label=\"test\")\n",
    "\n",
    "\n",
    "for p in range(3):\n",
    "    for d in range(2):\n",
    "        for q in range(3):\n",
    "            try:\n",
    "                model = ARIMA(series, order=(p, d, q))  \n",
    "                results_ARIMA = model.fit(disp=-1)  \n",
    "            except ValueError:\n",
    "                print((p,d,q),\"error\")\n",
    "                continue\n",
    "                \n",
    "            if (d==0): \n",
    "                predict=results_ARIMA.predict(end=data_train_median.size+data_test_median.size)\n",
    "                predict_0=results_ARIMA.predict()\n",
    "            else:\n",
    "                predict=results_ARIMA.predict(end=data_train_median.size+data_test_median.size,typ=\"levels\")\n",
    "                predict_0=results_ARIMA.predict(typ=\"levels\")\n",
    "                #print((p,d,q),\"OK\")\n",
    "            predict=predict[predict !=0]\n",
    "            predict_0=predict_0[predict_0 !=0]\n",
    "            total_df=pd.concat([series, predict_0],axis=1).dropna()\n",
    "            total_df2=pd.concat([test, predict],axis=1).dropna()\n",
    "            print((p,d,q),sqrt(mean_squared_error(total_df.iloc[:,0],total_df.iloc[:,1])),\\\n",
    "                      sqrt(mean_squared_error(total_df2.iloc[:,0],total_df2.iloc[:,1])))\n",
    "            plt.plot(predict, label=str(p)+str(d)+str(q))\n",
    "           \n",
    "#plt.plot(predict_0, color='red')\n",
    "\n",
    "plt.legend()\n",
    "\n",
    "\n"
   ]
  },
  {
   "cell_type": "code",
   "execution_count": null,
   "metadata": {
    "collapsed": true
   },
   "outputs": [],
   "source": [
    "#predict"
   ]
  },
  {
   "cell_type": "code",
   "execution_count": null,
   "metadata": {
    "collapsed": true
   },
   "outputs": [],
   "source": [
    "#total_df2.dropna()"
   ]
  },
  {
   "cell_type": "code",
   "execution_count": null,
   "metadata": {
    "collapsed": true,
    "scrolled": true
   },
   "outputs": [],
   "source": [
    "import statsmodels.api as sm\n",
    "series=data_train_median\n",
    "series_test=data_test_median\n",
    "\n",
    "\n",
    "print(\"Predmean:\",pred_mean(series))\n",
    "print(\"Predshi1:\",pred_shift(series,1))\n",
    "print(\"Predsh24:\",pred_shift(series,24))\n",
    "print(\"Prdhmean:\",error_predict(series,gen_h_mean(series,series)),\\\n",
    "                  error_predict(series_test,gen_h_mean(series,series_test)))\n",
    "\n",
    "plt.plot(series, label=\"train\", linewidth=5)\n",
    "plt.plot(data_test_median, label=\"test\", linewidth=5)\n",
    "plt.plot(gen_h_mean(series,series),label=(\"train_h_mean\"), linewidth=5)\n",
    "plt.plot(gen_h_mean(series,series_test),label=(\"test_h_mean\"), linewidth=5)\n",
    "\n",
    "for p,d,q in ((0,1,0),):\n",
    "        \"\"\" try:\n",
    "            mod = sm.tsa.statespace.SARIMAX(series, trend='n', order=(p,d,q))\n",
    "            results = mod.fit()\n",
    "        except:\n",
    "            print (p,d,q, \"value error\")\n",
    "            continue\n",
    "        predict_0=results.predict()\n",
    "        predict=results.predict(end=data_train_median.size+data_test_median.size)\n",
    "        predict=predict[predict !=0]\n",
    "        predict_0=predict_0[predict_0 !=0]\n",
    "        total_df=pd.concat([series, predict_0],axis=1).dropna()\n",
    "        total_df2=pd.concat([test, predict],axis=1).dropna()\n",
    "        print((p,d,q),sqrt(mean_squared_error(total_df.iloc[:,0],total_df.iloc[:,1])),\\\n",
    "                      sqrt(mean_squared_error(total_df2.iloc[:,0],total_df2.iloc[:,1])))\n",
    "            #print((p,d,q),sqrt(mean_squared_error(total_df.iloc[:,0],total_df.iloc[:,1])))\"\"\"\n",
    "\n",
    "        for P in range(2):\n",
    "                for D in range(2):\n",
    "                    for Q in range(2):\n",
    "                        try:\n",
    "                            mod = sm.tsa.statespace.SARIMAX(series, trend='n', order=(p,d,q), \\\n",
    "                                                            seasonal_order=(P,D,Q,24))\n",
    "                            results = mod.fit()\n",
    "                        except ValueError:\n",
    "                            print ((p,d,q),(P,D,Q), \"value error\")\n",
    "                            continue\n",
    "                        predict_0=results.predict()\n",
    "                        predict=results.predict(end=data_train_median.size+data_test_median.size)\n",
    "                        predict=predict[predict >1e-4]\n",
    "                        predict_0=predict_0[predict_0 >1e-4]\n",
    "                        #print(predict)\n",
    "                        total_df=pd.concat([series, predict_0],axis=1).dropna()\n",
    "                        total_df2=pd.concat([test, predict],axis=1).dropna()\n",
    "                        print((p,d,q),(P,D,Q),sqrt(mean_squared_error(total_df.iloc[:,0],total_df.iloc[:,1])),\\\n",
    "                                sqrt(mean_squared_error(total_df2.iloc[:,0],total_df2.iloc[:,1])))\n",
    "                        plt.plot(predict,label=str(P)+str(D)+str(Q))\n",
    "\n",
    "                            #pass\n",
    "#print(results.summary())\n",
    "#print(pred_shift(series,1),pred_mean(series))\n",
    "\n",
    "\n",
    "#f, ax = plt.subplots(2,2,figsize=(12,8))\n",
    "#ax=ax.flatten()\n",
    "\n",
    "plt.legend()\n"
   ]
  },
  {
   "cell_type": "markdown",
   "metadata": {},
   "source": [
    "## PYFLUX"
   ]
  },
  {
   "cell_type": "code",
   "execution_count": null,
   "metadata": {
    "collapsed": true
   },
   "outputs": [],
   "source": [
    "#ARIMA PYFLUX\n",
    "#does not have seasonal component\n",
    "import pyflux as pf\n",
    "model = pf.ARIMA(data=data_train_median.values,ar=4,ma=4,integ=0)\n",
    "x = model.fit(\"MLE\")"
   ]
  },
  {
   "cell_type": "code",
   "execution_count": null,
   "metadata": {
    "collapsed": true
   },
   "outputs": [],
   "source": [
    "model.plot_fit(figsize=(15,5))"
   ]
  },
  {
   "cell_type": "code",
   "execution_count": null,
   "metadata": {
    "collapsed": true
   },
   "outputs": [],
   "source": [
    "#x.summary()\n",
    "#print(data_train_median.values)\n",
    "#model.predict()\n",
    "#model.predict_is(h=data_train_median.size-6,fit_once=False)"
   ]
  },
  {
   "cell_type": "code",
   "execution_count": null,
   "metadata": {
    "collapsed": true
   },
   "outputs": [],
   "source": [
    "#model.plot_z(indices=range(1,9))"
   ]
  },
  {
   "cell_type": "code",
   "execution_count": null,
   "metadata": {
    "collapsed": true
   },
   "outputs": [],
   "source": [
    "#model.plot_predict(h=20,past_values=100,figsize=(15,5))\n"
   ]
  },
  {
   "cell_type": "code",
   "execution_count": null,
   "metadata": {
    "collapsed": true
   },
   "outputs": [],
   "source": [
    "#prediction=model.predict(h=data_test_median.size)"
   ]
  },
  {
   "cell_type": "code",
   "execution_count": null,
   "metadata": {
    "collapsed": true
   },
   "outputs": [],
   "source": [
    "#plt.plot(data_train_median.values, label=\"train\")\n",
    "#plt.plot(prediction,label=\"prediction\")\n",
    "#index_test=np.arange(data_train_median.size,data_train_median.size+data_test_median.size)\n",
    "#plt.plot(index_test,data_test_median.values, label=\"test\")\n",
    "#plt.legend()"
   ]
  },
  {
   "cell_type": "markdown",
   "metadata": {},
   "source": [
    "## FBPROPHET"
   ]
  },
  {
   "cell_type": "code",
   "execution_count": null,
   "metadata": {
    "collapsed": true
   },
   "outputs": [],
   "source": [
    "import fbprophet as fbp\n",
    "\n",
    "#use=data\n",
    "use=data_train_median\n",
    "use_test=data_test_median\n",
    "df=pd.DataFrame(index=use.index)\n",
    "#df.set_index(use.index)\n",
    "df['ds'] = use.index\n",
    "# and the dependent variable called \"y\"\n",
    "df['y'] = use.values\n",
    "\n",
    "model=fbp.Prophet(weekly_seasonality=False, yearly_seasonality=False,daily_seasonality=True)\n",
    "model.fit(df)\n",
    "\n"
   ]
  },
  {
   "cell_type": "code",
   "execution_count": null,
   "metadata": {
    "collapsed": true
   },
   "outputs": [],
   "source": [
    "# Set the prediction period to 6 hours = 6*60 minutes\n",
    "#future=model.make_future_dataframe(periods=data_test_median.size,freq=resampling)\n",
    "future=model.make_future_dataframe(24*4,freq=resampling)\n",
    "future.tail()\n",
    "forecast=model.predict(future)\n",
    "#future[\"forecast\"]=forecast.yhat\n",
    "forecast=forecast.set_index(\"ds\",drop=False)\n",
    "model.plot(forecast);"
   ]
  },
  {
   "cell_type": "code",
   "execution_count": null,
   "metadata": {
    "collapsed": true
   },
   "outputs": [],
   "source": [
    "fig=plt.plot(forecast.yhat)\n",
    "plt.plot(use)\n",
    "plt.plot(use_test)\n",
    "\n",
    "df_train=pd.concat([forecast.yhat,use],axis=1).dropna()\n",
    "df_test= pd.concat([forecast.yhat,use_test],axis=1).dropna()\n",
    "print(\"train_error, test_error:\")\n",
    "print(error_predict(df_train.iloc[:,0],df_train.iloc[:,1]),\\\n",
    "      error_predict(df_test.iloc[:,0],df_test.iloc[:,1]))\n",
    "\n",
    "print(\"Predmean:\",pred_mean(use))\n",
    "print(\"Predshi1:\",pred_shift(use,1))\n",
    "print(\"Predsh24:\",pred_shift(use,24))\n",
    "print(\"Pr24mean:\",error_predict(series,gen_h_mean(use,use)),\\\n",
    "                  error_predict(use_test,gen_h_mean(use,use_test)))\n",
    "\n"
   ]
  },
  {
   "cell_type": "code",
   "execution_count": null,
   "metadata": {
    "collapsed": true
   },
   "outputs": [],
   "source": [
    "fig"
   ]
  },
  {
   "cell_type": "markdown",
   "metadata": {},
   "source": [
    "## R ARIMA"
   ]
  },
  {
   "cell_type": "code",
   "execution_count": null,
   "metadata": {
    "collapsed": true
   },
   "outputs": [],
   "source": [
    "%load_ext rpy2.ipython\n",
    "p,d,q,P,D,Q=0,1,0,0,24,0\n",
    "p,d,q,P,D,Q"
   ]
  },
  {
   "cell_type": "code",
   "execution_count": null,
   "metadata": {
    "collapsed": true
   },
   "outputs": [],
   "source": [
    "\"\"\"\n",
    "%%R -i data_train_median,p,d,q,P,D,Q -o prev\n",
    "#plot(data_train_median,type='l')\n",
    "#X=data_train_median\n",
    "#'''T=1:length(X)\n",
    "#plot(T,X,type='l')\n",
    "#reg=lm(X~T)\n",
    "#abline(reg,col=\"red\")\n",
    "#Y=residuals(reg)\n",
    "#acf(Y,lag=36,lwd=3)\n",
    "#reg=lm(data_train_median)\n",
    "#Z=diff(Y,24)\n",
    "#acf(Z,lag=36,lwd=3)\n",
    "#pacf(Z,lag=36,lwd=3)\n",
    "#model1=arima(Z,order=c(0,0,1))\n",
    "#print(model1)\n",
    "#E1=residuals(model1)\n",
    "#acf(E1,lag=36,lwd=3)\n",
    "\n",
    "library(forecast)\n",
    "\n",
    "model2b=arima(data_train_median,order=c(p,d,q),seasonal = list(order = c(P, D, Q),period=24)) \n",
    "#print(model2b)\n",
    "prev=forecast(model2b,72)\n",
    "\n",
    "\n",
    "\n",
    "#previ=function(model,h=36,b=40000){\n",
    "#prev=forecast(model,h)\n",
    "#T=1:85\n",
    "#Tfutur=86:(85+h)\n",
    "#plot(T,Y,type=\"l\",xlim=c(0,85+h),ylim=c(-b,b))\n",
    "#polygon(c(Tfutur,rev(Tfutur)),c(prev$lower[,2],rev(prev$upper[,2])),col=\"orange\",border=NA)\n",
    "#polygon(c(Tfutur,rev(Tfutur)),c(prev$lower[,1],rev(prev$upper[,1])),col=\"yellow\",border=NA)\n",
    "#lines(prev$mean,col=\"blue\")\n",
    "#lines(Tfutur,prev$lower[,2],col=\"red\")\n",
    "#lines(Tfutur,prev$upper[,2],col=\"red\")\n",
    "#}\n",
    "#previ(model2b,600,b=60000)\n",
    "#plot(as.integer(rownames(prev)),prev[\"Point forecast\"])\n",
    "#prev\n",
    "typeof(prev)\n",
    "typeof(prev[[4]])\n",
    "\"\"\""
   ]
  },
  {
   "cell_type": "code",
   "execution_count": null,
   "metadata": {
    "collapsed": true
   },
   "outputs": [],
   "source": [
    "p,d,q,P,D,Q,h=0,1,0,0,1,0,72\n",
    "%R -i data_train_median,p,d,q,P,D,Q,h -o prev1,prev2,prev3 library(forecast);\\\n",
    "model=arima(data_train_median,order=c(p,d,q),seasonal = list(order = c(P, D, Q),period=24)) ;\\\n",
    "prev1=forecast(model)[[4]];prev2=forecast(model)[[7]];prev3=forecast(model)[[9]];\n",
    "#plt.plot(prev1)\n",
    "plt.plot(prev2)\n",
    "plt.plot(prev3)"
   ]
  },
  {
   "cell_type": "code",
   "execution_count": null,
   "metadata": {
    "collapsed": true
   },
   "outputs": [],
   "source": [
    "import numpy as np\n",
    "plt.plot(data_train_median,linewidth=5)\n",
    "plt.plot(data_test_median,linewidth=5)\n",
    "n_p,n_d,n_q,n_P,n_D,n_Q=2,2,2,2,2,2\n",
    "#results={}\n",
    "from collections import defaultdict\n",
    "results = defaultdict(float)\n",
    "\n",
    "\n",
    "#for p,d,q in ((0,1,0),):\n",
    "for p in range(n_p):\n",
    "    for d in range(n_d):\n",
    "      for q in range(n_q):\n",
    "        for P in range(n_P):\n",
    "                for D in range(n_D):\n",
    "                    for Q in range(n_Q):\n",
    "                        h=data_test_median.size\n",
    "                        data=data_train_median\n",
    "                        %R -i data,p,d,q,P,D,Q,h -o prev1,prev2,prev3 library(forecast);\\\n",
    "                        model=arima(data,order=c(p,d,q),seasonal = list(order = c(P, D, Q),period=24)) ;\\\n",
    "                        prev1=forecast(model,h)[[4]];prev2=forecast(model)[[7]];prev3=forecast(model)[[9]];\n",
    "                        error_train=sqrt(mean_squared_error(data_train_median,prev3))\n",
    "                        error_test= sqrt(mean_squared_error(data_test_median,prev1))\n",
    "                        print((p,d,q),(P,D,Q),error_train,error_test)\n",
    "                        results[str(p)+str(d)+str(q)+str(P)+str(D)+str(Q)]=(error_train,error_test)\n",
    "                        plt.plot(data_test_median.index,prev1,label=str(P)+str(D)+str(Q))\n",
    "                        plt.plot(data_train_median.index,prev3,label=str(P)+str(D)+str(Q))\n",
    "                        \n",
    "#plt.legend()"
   ]
  },
  {
   "cell_type": "code",
   "execution_count": null,
   "metadata": {
    "collapsed": true
   },
   "outputs": [],
   "source": [
    "sorted(results.items(), key=lambda x: x[1][0])\n",
    "sorted(results.items(), key=lambda x: x[1][1])\n",
    "#print(results.values())\n",
    "#for w in sorted(results, key=results.get, reverse=False):\n",
    "#  print(w, results[w])\n",
    "\n",
    "#from operator import itemgetter\n",
    "#from collections import OrderedDict\n",
    "#x = {1: 2, 3: 4, 4: 3, 2: 1, 0: 0}\n",
    "#OrderedDict(sorted(results.items(), key=itemgetter(1)))"
   ]
  },
  {
   "cell_type": "code",
   "execution_count": null,
   "metadata": {
    "collapsed": true
   },
   "outputs": [],
   "source": [
    "%%R -i data,h -o prev1,prev2,prev3 library(forecast);\n",
    "#best_arima=forecast::auto.arima(y = data)\n",
    "data<-ts(data,frequency=24)\n",
    "best_arima_D1=forecast::auto.arima(y = data,seasonal=TRUE,D=1)\n",
    "#model=arima(data,order=c(p,d,q),seasonal = list(order = c(P, D, Q),period=24)) ;\\\n",
    "#prev1=forecast(model,h)[[4]];prev2=forecast(model)[[7]];prev3=forecast(model)[[9]];\n",
    "#print(best_arima)\n",
    "print(best_arima_D1)\n",
    "Box.test(x = best_arima_D1$residuals, lag = 24, fitdf = 24, type=\"Ljung\")"
   ]
  },
  {
   "cell_type": "code",
   "execution_count": null,
   "metadata": {
    "collapsed": true
   },
   "outputs": [],
   "source": [
    "plt.plot(data_train_median,linewidth=5)\n",
    "plt.plot(data_test_median,linewidth=5)\n",
    "\n",
    "#for p,d,q in ((0,1,0),):\n",
    "for p,d,q,P,D,Q in ((1,1,1,0,1,1),(0,1,1,0,0,1),(0,1,2,2,0,0),(1,1,0,1,1,0)):\n",
    "                        h=data_test_median.size\n",
    "                        data=data_train_median\n",
    "                        %R -i data,p,d,q,P,D,Q,h -o prev1,prev2,prev3 library(forecast);\\\n",
    "                        model=arima(data,order=c(p,d,q),seasonal = list(order = c(P, D, Q),period=24)) ;\\\n",
    "                        prev1=forecast(model,h)[[4]];prev2=forecast(model)[[7]];prev3=forecast(model)[[9]];\n",
    "                        \n",
    "                        print((p,d,q),(P,D,Q),sqrt(mean_squared_error(data_train_median,prev3)),\\\n",
    "                                              sqrt(mean_squared_error(data_test_median,prev1)))\n",
    "                        plt.plot(data_test_median.index,prev1,label=str(p)+str(d)+str(q)+str(P)+str(D)+str(Q))\n",
    "                        plt.plot(data_train_median.index,prev3,label=str(p)+str(d)+str(q)+str(P)+str(D)+str(Q))\n",
    "                        \n",
    "plt.legend()"
   ]
  },
  {
   "cell_type": "code",
   "execution_count": null,
   "metadata": {
    "collapsed": true
   },
   "outputs": [],
   "source": [
    "groups=list(data_train_median.groupby(data_train_median.index.dayofyear))\n",
    "#print(groups.index)\n",
    "for name,g in groups:\n",
    "    plt.plot(g.index.hour,g.values,label=name)\n",
    "plt.legend()"
   ]
  },
  {
   "cell_type": "code",
   "execution_count": null,
   "metadata": {
    "collapsed": true,
    "scrolled": true
   },
   "outputs": [],
   "source": [
    "#data_tot_h.Rain.dropna().tail(200).plot()\n",
    "#data_tot_h.Rain_01.dropna().tail(200).plot()\n",
    "data_tot_h.Rain2.dropna().tail(200).plot()\n",
    "data_tot_h.Temp_ds.dropna().tail(200).plot(secondary_y=True)\n",
    "#data_tot_h.Temp_bmp.dropna().tail(200).plot(secondary_y=True)\n",
    "#data_tot_h.Temp_11.dropna().tail(200).plot(secondary_y=True)\n",
    "data_tot_h.Speed.dropna().tail(200).plot(secondary_y=True)"
   ]
  },
  {
   "cell_type": "code",
   "execution_count": null,
   "metadata": {
    "collapsed": true
   },
   "outputs": [],
   "source": [
    "data_tot_h.Temp_ds.dropna().tail(200).argmin()"
   ]
  },
  {
   "cell_type": "code",
   "execution_count": null,
   "metadata": {
    "collapsed": true
   },
   "outputs": [],
   "source": [
    "sns.jointplot(x = \"Temp_ds\", y = \"Hum_11\", data = data_tot_h, kind = 'kde')\n",
    "sns.jointplot(x = \"Temp_ds\", y = \"Hum_11\", data = data_tot_h[data_tot_h.Hum_11>20], kind = 'kde')\n",
    "sns.jointplot(x = \"Temp_ds\", y = \"Hum_11\", data = data_tot_h[data_tot_h.Hum_11<20], kind = 'kde')\n"
   ]
  },
  {
   "cell_type": "code",
   "execution_count": null,
   "metadata": {
    "collapsed": true
   },
   "outputs": [],
   "source": [
    "sns.jointplot(x = \"Temp_ds\", y = \"P_bmp\", data = data_tot_h, kind = 'kde')\n",
    "sns.jointplot(x = \"Hum_11\", y = \"P_bmp\", data = data_tot_h, kind = 'kde')\n"
   ]
  },
  {
   "cell_type": "code",
   "execution_count": null,
   "metadata": {
    "collapsed": true
   },
   "outputs": [],
   "source": [
    "from matplotlib import cm\n",
    "#sns.jointplot(x = \"Temp_ds\", y = \"P_bmp\", data = , kind = 'kde')\n",
    "#sns.jointplot(x = \"Temp_ds\", y = \"P_bmp\", data = data_tot_h[data_tot_h.Hum_11<20], kind = 'kde')\n",
    "plt.scatter(x = \"Temp_ds\", y = \"P_bmp\", data = data_tot_h[data_tot_h.Hum_11>20],\\\n",
    "            c=1023-data_tot_h[data_tot_h.Hum_11>20].Light2,marker=\"d\",cmap=cm.magma,s=200)\n",
    "plt.scatter(x = \"Temp_ds\", y = \"P_bmp\", data = data_tot_h[data_tot_h.Hum_11<20],\\\n",
    "            c=1023-data_tot_h[data_tot_h.Hum_11<20].Light2,marker=\"x\",cmap=cm.magma,s=200)"
   ]
  },
  {
   "cell_type": "code",
   "execution_count": null,
   "metadata": {
    "collapsed": true
   },
   "outputs": [],
   "source": [
    "\n",
    "plt.scatter(x = \"Temp_ds\", y = \"Hum_11\", data = data_tot_h,c=\"Rain_01\",cmap=cm.jet,alpha=0.5)"
   ]
  },
  {
   "cell_type": "code",
   "execution_count": null,
   "metadata": {
    "collapsed": true,
    "scrolled": false
   },
   "outputs": [],
   "source": [
    "data_rain=data_tot_h[data_tot_h.Rain_01<0.5]\n",
    "data_norain=data_tot_h[data_tot_h.Rain_01>0.5]\n",
    "import cmocean\n",
    "plt.scatter(x = \"Temp_ds\", y = \"Hum_11\", data = data_rain,\\\n",
    "            c=1023-data_rain.Light2,marker=\"d\",cmap=cm.magma,s=200)\n",
    "plt.scatter(x = \"Temp_ds\", y = \"Hum_11\", data = data_norain,\\\n",
    "            c=1023-data_norain.Light2,marker=\"o\",cmap=cm.magma)\n",
    "cbar = plt.colorbar()\n",
    "print(data_rain.Temp_ds.mean())\n",
    "print(data_norain.Temp_ds.mean())\n",
    "print(data_tot_h[data_tot_h.Hum_11>20].Temp_ds.mean())\n",
    "print(data_tot_h[data_tot_h.Hum_11<20].Temp_ds.mean())"
   ]
  },
  {
   "cell_type": "markdown",
   "metadata": {
    "collapsed": true
   },
   "source": [
    "# PLOTLY"
   ]
  },
  {
   "cell_type": "code",
   "execution_count": null,
   "metadata": {
    "collapsed": true
   },
   "outputs": [],
   "source": [
    "import plotly\n",
    "plotly.__version__\n",
    "plotly.tools.set_credentials_file(username='Baruselli', api_key='6Sdm0FPllCZl9S85zXy2')"
   ]
  },
  {
   "cell_type": "code",
   "execution_count": null,
   "metadata": {
    "collapsed": true
   },
   "outputs": [],
   "source": [
    "\n",
    "import plotly.plotly as py\n",
    "import plotly.graph_objs as go\n",
    "\n",
    "trace = go.Scatter(\n",
    "    x = data_tot_h.Temp_ds,\n",
    "    y = data_tot_h.Hum_11,\n",
    "    mode = 'markers', \n",
    "    marker=dict(\n",
    "        size='8',\n",
    "        color = 1023-data_tot_h.Light2, #set color equal to a variable\n",
    "        colorscale='Viridis',\n",
    "        showscale=True,\n",
    "    ),\n",
    "    text=data_tot_h.index,\n",
    "    name=\"Temp_Hum\",\n",
    ")\n",
    "\n",
    "layout = go.Layout(\n",
    "    title='TH',\n",
    "    xaxis=dict(\n",
    "        title='Temp',\n",
    "        titlefont=dict(\n",
    "            family='Courier New, monospace',\n",
    "            size=18,\n",
    "            color='#7f7f7f'\n",
    "        )\n",
    "    ),\n",
    "    yaxis=dict(\n",
    "        title='Hum',\n",
    "        titlefont=dict(\n",
    "            family='Courier New, monospace',\n",
    "            size=18,\n",
    "            color='#7f7f7f'\n",
    "        )\n",
    "    )\n",
    ")\n",
    "\n",
    "#plotly.offline.init_notebook_mode()\n",
    "py.iplot([trace], filename='basic-scatter',layout=layout)\n",
    "#plotly.offline.iplot([trace], filename='basic-scatter-offline')\n",
    "\n"
   ]
  },
  {
   "cell_type": "code",
   "execution_count": null,
   "metadata": {
    "collapsed": true
   },
   "outputs": [],
   "source": [
    "import plotly.plotly as py\n",
    "import plotly.graph_objs as go\n",
    "trace = go.Scatter(\n",
    "    x = data_tot_h.index,\n",
    "    y = data_tot_h.Temp_ds,\n",
    "    mode = 'markers+lines', \n",
    "    marker=dict(\n",
    "        size='8',\n",
    "        color = 1023-data_tot_h.Light2, #set color equal to a variable\n",
    "        colorscale='Viridis',\n",
    "        showscale=True,\n",
    "    ),\n",
    "    text=data_tot_h.index,\n",
    "    name=\"Temp\",\n",
    ")\n",
    "\n",
    "layout = go.Layout(\n",
    "    title='TH',\n",
    "    xaxis=dict(\n",
    "        title='Time',\n",
    "        titlefont=dict(\n",
    "            family='Courier New, monospace',\n",
    "            size=18,\n",
    "            color='#7f7f7f'\n",
    "        )\n",
    "    ),\n",
    "    yaxis=dict(\n",
    "        title='Temp',\n",
    "        titlefont=dict(\n",
    "            family='Courier New, monospace',\n",
    "            size=18,\n",
    "            color='#7f7f7f'\n",
    "        )\n",
    "    )\n",
    ")\n",
    "\n",
    "#plotly.offline.iplot([trace], filename='T-series') #,layout=layout\n",
    "py.iplot([trace], filename='T-series',layout=layout) #\n",
    "\n",
    "\n",
    "\n",
    "\n"
   ]
  },
  {
   "cell_type": "code",
   "execution_count": null,
   "metadata": {
    "collapsed": true,
    "scrolled": false
   },
   "outputs": [],
   "source": [
    "trace = go.Scatter(\n",
    "    x = data_tot_h.index,\n",
    "    y = data_tot_h.Temp_ds,\n",
    "    mode = 'markers+lines', \n",
    "    marker=dict(\n",
    "        size='8',\n",
    "        color = 1023-data_tot_h.Light2, #set color equal to a variable\n",
    "        colorscale='Viridis',\n",
    "        showscale=True,\n",
    "    ),\n",
    "    text=data_tot_h.index,\n",
    "    name=\"Temp\",\n",
    ")\n",
    "\n",
    "layout = dict(\n",
    "    title='Time Series with Rangeslider',\n",
    "    xaxis=dict(\n",
    "        rangeselector=dict(\n",
    "            buttons=list([\n",
    "                dict(count=1,\n",
    "                     label='1d',\n",
    "                     step='day',\n",
    "                     stepmode='backward'),\n",
    "                dict(count=7,\n",
    "                     label='7d',\n",
    "                     step='day',\n",
    "                     stepmode='backward'),\n",
    "                dict(step='all')\n",
    "            ])\n",
    "        ),\n",
    "        rangeslider=dict(),\n",
    "        type='date'\n",
    "    )\n",
    ")\n",
    "data=[trace]\n",
    "\n",
    "fig = dict(data=data, layout=layout)\n",
    "py.iplot(fig, filename = \"Time Series with Rangeslider\")"
   ]
  },
  {
   "cell_type": "code",
   "execution_count": null,
   "metadata": {
    "collapsed": true
   },
   "outputs": [],
   "source": [
    "data_tot_h.index"
   ]
  },
  {
   "cell_type": "code",
   "execution_count": null,
   "metadata": {
    "collapsed": true
   },
   "outputs": [],
   "source": [
    "data_tot_h.UV_an.dropna().plot()"
   ]
  },
  {
   "cell_type": "code",
   "execution_count": null,
   "metadata": {
    "collapsed": true
   },
   "outputs": [],
   "source": [
    "data_tot_h.UV_1145.dropna().plot()"
   ]
  },
  {
   "cell_type": "code",
   "execution_count": null,
   "metadata": {
    "collapsed": true
   },
   "outputs": [],
   "source": [
    "'''#plotly offline\n",
    "from plotly.offline import download_plotlyjs, init_notebook_mode, plot, iplot\n",
    "from plotly.graph_objs import Scatter, Figure, Layout\n",
    "init_notebook_mode(connected=True)\n",
    "\n",
    "import plotly.plotly as py\n",
    "import plotly.graph_objs as go\n",
    "trace = go.Scatter(\n",
    "    x = data_tot_h.P_bmp.dropna().index,\n",
    "    y = data_tot_h.P_bmp.dropna(),\n",
    "    mode = 'markers+lines', \n",
    "    marker=dict(\n",
    "        size='8',\n",
    "        color = 1023-data_tot_h.Light2, #set color equal to a variable\n",
    "        colorscale='Viridis',\n",
    "        showscale=True,\n",
    "    ),\n",
    "    text=data_tot_h.index,\n",
    "    name=\"Temp\",\n",
    ")\n",
    "\n",
    "\n",
    "\n",
    "#plotly.offline.iplot([trace], filename='T-series') #,layout=layout\n",
    "iplot([trace], filename='P-series') #\n",
    "iplot([trace], filename='P-series',image='png') #\n",
    "\n",
    "\n",
    "\n",
    "\n",
    "'''"
   ]
  },
  {
   "cell_type": "code",
   "execution_count": null,
   "metadata": {
    "collapsed": true
   },
   "outputs": [],
   "source": [
    "#fig = py.get_figure('https://plot.ly/~jackp/8715', raw=True)\n",
    "#iplot(fig)"
   ]
  },
  {
   "cell_type": "markdown",
   "metadata": {},
   "source": [
    "# PYSPARK"
   ]
  },
  {
   "cell_type": "code",
   "execution_count": null,
   "metadata": {
    "collapsed": true
   },
   "outputs": [],
   "source": [
    "from pyspark import SparkContext, SparkConf\n",
    "conf = SparkConf().setAppName('appName').setMaster('local')\n",
    "sc = SparkContext(conf=conf)"
   ]
  },
  {
   "cell_type": "code",
   "execution_count": null,
   "metadata": {
    "collapsed": true
   },
   "outputs": [],
   "source": [
    "import pyspark.sql\n",
    "\n",
    "session= pyspark.sql.SparkSession(sc)\n",
    "\n",
    "#Create Spark DataFrame from Pandas\n",
    "data_spark = session.createDataFrame(data_tot_h)\n",
    "\n",
    "\n",
    " #from pyspark.mllib.stat import Statistics \n",
    "#summary = Statistics.colStats(data_spark)\n",
    "#print(summary)"
   ]
  },
  {
   "cell_type": "code",
   "execution_count": null,
   "metadata": {
    "collapsed": true
   },
   "outputs": [],
   "source": [
    "data_spark.describe().toPandas()"
   ]
  },
  {
   "cell_type": "code",
   "execution_count": null,
   "metadata": {
    "collapsed": true
   },
   "outputs": [],
   "source": [
    "data_tot_h.describe()"
   ]
  },
  {
   "cell_type": "code",
   "execution_count": null,
   "metadata": {
    "collapsed": true
   },
   "outputs": [],
   "source": [
    "#def labelData(data):\n",
    "    # label: row[end], features: row[0:end-1]\n",
    "#    return data.map(lambda row: LabeledPoint(row[:]))\n",
    "\n",
    "\n",
    "#labelData(data_spark)"
   ]
  },
  {
   "cell_type": "code",
   "execution_count": null,
   "metadata": {
    "collapsed": true
   },
   "outputs": [],
   "source": [
    "data_spark.printSchema()"
   ]
  },
  {
   "cell_type": "code",
   "execution_count": null,
   "metadata": {
    "collapsed": true
   },
   "outputs": [],
   "source": []
  },
  {
   "cell_type": "code",
   "execution_count": null,
   "metadata": {
    "collapsed": true
   },
   "outputs": [],
   "source": []
  }
 ],
 "metadata": {
  "anaconda-cloud": {},
  "kernelspec": {
   "display_name": "Python 3",
   "language": "python",
   "name": "python3"
  },
  "language_info": {
   "codemirror_mode": {
    "name": "ipython",
    "version": 3
   },
   "file_extension": ".py",
   "mimetype": "text/x-python",
   "name": "python",
   "nbconvert_exporter": "python",
   "pygments_lexer": "ipython3",
   "version": "3.6.1"
  }
 },
 "nbformat": 4,
 "nbformat_minor": 1
}
